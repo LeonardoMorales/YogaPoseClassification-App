{
  "nbformat": 4,
  "nbformat_minor": 0,
  "metadata": {
    "colab": {
      "name": "Yoga Pose Classification NN.ipynb",
      "provenance": [],
      "collapsed_sections": [],
      "authorship_tag": "ABX9TyM6+0DjShXhi7LfjHhcRkeG",
      "include_colab_link": true
    },
    "kernelspec": {
      "name": "python3",
      "display_name": "Python 3"
    },
    "language_info": {
      "name": "python"
    }
  },
  "cells": [
    {
      "cell_type": "markdown",
      "metadata": {
        "id": "view-in-github",
        "colab_type": "text"
      },
      "source": [
        "<a href=\"https://colab.research.google.com/github/LeonardoMorales/YogaPoseClassification-App/blob/master/Yoga_Pose_Classification_NN.ipynb\" target=\"_parent\"><img src=\"https://colab.research.google.com/assets/colab-badge.svg\" alt=\"Open In Colab\"/></a>"
      ]
    },
    {
      "cell_type": "code",
      "metadata": {
        "id": "gcDLl17EzRIB"
      },
      "source": [
        "# Tensorflow and Keras\n",
        "import tensorflow as tf\n",
        "from tensorflow import keras\n",
        "from sklearn.model_selection import train_test_split\n",
        "\n",
        "# Import NN layers\n",
        "from tensorflow.keras.models import Sequential\n",
        "from tensorflow.keras.layers import Activation, Dense, BatchNormalization, Dropout\n",
        "from tensorflow.keras import optimizers\n",
        "import matplotlib.pyplot as plt # for plotting data\n",
        "import numpy as np # for math and arrays\n",
        "import pandas as pd\n",
        "import seaborn as sns # for plotting"
      ],
      "execution_count": null,
      "outputs": []
    },
    {
      "cell_type": "code",
      "metadata": {
        "id": "yL3zDfpE0gUM"
      },
      "source": [
        "tf.random.set_seed(13)\n",
        "tf.debugging.set_log_device_placement(False)"
      ],
      "execution_count": null,
      "outputs": []
    },
    {
      "cell_type": "code",
      "metadata": {
        "colab": {
          "base_uri": "https://localhost:8080/",
          "height": 415
        },
        "id": "FqsNOt61061L",
        "outputId": "6730f108-c48a-4460-c8dc-86cf8ee453e6"
      },
      "source": [
        "all_ds = pd.read_csv('Test5_YogaPoses_Nums_Completed.csv')\n",
        "all_ds"
      ],
      "execution_count": null,
      "outputs": [
        {
          "output_type": "execute_result",
          "data": {
            "text/html": [
              "<div>\n",
              "<style scoped>\n",
              "    .dataframe tbody tr th:only-of-type {\n",
              "        vertical-align: middle;\n",
              "    }\n",
              "\n",
              "    .dataframe tbody tr th {\n",
              "        vertical-align: top;\n",
              "    }\n",
              "\n",
              "    .dataframe thead th {\n",
              "        text-align: right;\n",
              "    }\n",
              "</style>\n",
              "<table border=\"1\" class=\"dataframe\">\n",
              "  <thead>\n",
              "    <tr style=\"text-align: right;\">\n",
              "      <th></th>\n",
              "      <th>POSE</th>\n",
              "      <th>LeftShoulderAngle</th>\n",
              "      <th>RightShoulderAngle</th>\n",
              "      <th>LeftElbowAngle</th>\n",
              "      <th>RightElbowAngle</th>\n",
              "      <th>LeftHipAngle</th>\n",
              "      <th>RightHipAngle</th>\n",
              "      <th>LeftKneeAngle</th>\n",
              "      <th>RightKneeAngle</th>\n",
              "    </tr>\n",
              "  </thead>\n",
              "  <tbody>\n",
              "    <tr>\n",
              "      <th>0</th>\n",
              "      <td>0</td>\n",
              "      <td>8.533379</td>\n",
              "      <td>2.493388</td>\n",
              "      <td>155.628118</td>\n",
              "      <td>167.744911</td>\n",
              "      <td>65.308848</td>\n",
              "      <td>69.156519</td>\n",
              "      <td>8.163497</td>\n",
              "      <td>10.022567</td>\n",
              "    </tr>\n",
              "    <tr>\n",
              "      <th>1</th>\n",
              "      <td>0</td>\n",
              "      <td>4.083005</td>\n",
              "      <td>7.058673</td>\n",
              "      <td>162.490382</td>\n",
              "      <td>164.203458</td>\n",
              "      <td>86.062801</td>\n",
              "      <td>92.487008</td>\n",
              "      <td>19.074113</td>\n",
              "      <td>15.664330</td>\n",
              "    </tr>\n",
              "    <tr>\n",
              "      <th>2</th>\n",
              "      <td>0</td>\n",
              "      <td>10.713288</td>\n",
              "      <td>5.973813</td>\n",
              "      <td>160.446161</td>\n",
              "      <td>165.091847</td>\n",
              "      <td>85.984780</td>\n",
              "      <td>88.687401</td>\n",
              "      <td>18.324295</td>\n",
              "      <td>14.579814</td>\n",
              "    </tr>\n",
              "    <tr>\n",
              "      <th>3</th>\n",
              "      <td>0</td>\n",
              "      <td>10.192227</td>\n",
              "      <td>4.999405</td>\n",
              "      <td>146.517574</td>\n",
              "      <td>168.168232</td>\n",
              "      <td>66.525332</td>\n",
              "      <td>79.147658</td>\n",
              "      <td>11.740945</td>\n",
              "      <td>14.509123</td>\n",
              "    </tr>\n",
              "    <tr>\n",
              "      <th>4</th>\n",
              "      <td>0</td>\n",
              "      <td>6.541231</td>\n",
              "      <td>14.255083</td>\n",
              "      <td>153.434766</td>\n",
              "      <td>177.832598</td>\n",
              "      <td>97.035200</td>\n",
              "      <td>77.687719</td>\n",
              "      <td>25.451624</td>\n",
              "      <td>19.056081</td>\n",
              "    </tr>\n",
              "    <tr>\n",
              "      <th>...</th>\n",
              "      <td>...</td>\n",
              "      <td>...</td>\n",
              "      <td>...</td>\n",
              "      <td>...</td>\n",
              "      <td>...</td>\n",
              "      <td>...</td>\n",
              "      <td>...</td>\n",
              "      <td>...</td>\n",
              "      <td>...</td>\n",
              "    </tr>\n",
              "    <tr>\n",
              "      <th>535</th>\n",
              "      <td>11</td>\n",
              "      <td>32.341280</td>\n",
              "      <td>34.697163</td>\n",
              "      <td>132.943775</td>\n",
              "      <td>133.399059</td>\n",
              "      <td>170.746287</td>\n",
              "      <td>165.237470</td>\n",
              "      <td>179.583760</td>\n",
              "      <td>179.296062</td>\n",
              "    </tr>\n",
              "    <tr>\n",
              "      <th>536</th>\n",
              "      <td>11</td>\n",
              "      <td>27.870505</td>\n",
              "      <td>26.599099</td>\n",
              "      <td>132.554728</td>\n",
              "      <td>133.879904</td>\n",
              "      <td>163.078430</td>\n",
              "      <td>169.962854</td>\n",
              "      <td>174.953182</td>\n",
              "      <td>179.924549</td>\n",
              "    </tr>\n",
              "    <tr>\n",
              "      <th>537</th>\n",
              "      <td>11</td>\n",
              "      <td>25.244714</td>\n",
              "      <td>24.815232</td>\n",
              "      <td>171.262694</td>\n",
              "      <td>171.958400</td>\n",
              "      <td>167.918958</td>\n",
              "      <td>166.584342</td>\n",
              "      <td>179.591163</td>\n",
              "      <td>177.714350</td>\n",
              "    </tr>\n",
              "    <tr>\n",
              "      <th>538</th>\n",
              "      <td>11</td>\n",
              "      <td>24.983732</td>\n",
              "      <td>18.345772</td>\n",
              "      <td>161.487519</td>\n",
              "      <td>179.777819</td>\n",
              "      <td>170.559495</td>\n",
              "      <td>168.409232</td>\n",
              "      <td>179.217187</td>\n",
              "      <td>177.440177</td>\n",
              "    </tr>\n",
              "    <tr>\n",
              "      <th>539</th>\n",
              "      <td>11</td>\n",
              "      <td>47.681568</td>\n",
              "      <td>13.987148</td>\n",
              "      <td>102.536948</td>\n",
              "      <td>176.013866</td>\n",
              "      <td>169.051608</td>\n",
              "      <td>172.422006</td>\n",
              "      <td>176.481396</td>\n",
              "      <td>176.763315</td>\n",
              "    </tr>\n",
              "  </tbody>\n",
              "</table>\n",
              "<p>540 rows × 9 columns</p>\n",
              "</div>"
            ],
            "text/plain": [
              "     POSE  LeftShoulderAngle  ...  LeftKneeAngle  RightKneeAngle\n",
              "0       0           8.533379  ...       8.163497       10.022567\n",
              "1       0           4.083005  ...      19.074113       15.664330\n",
              "2       0          10.713288  ...      18.324295       14.579814\n",
              "3       0          10.192227  ...      11.740945       14.509123\n",
              "4       0           6.541231  ...      25.451624       19.056081\n",
              "..    ...                ...  ...            ...             ...\n",
              "535    11          32.341280  ...     179.583760      179.296062\n",
              "536    11          27.870505  ...     174.953182      179.924549\n",
              "537    11          25.244714  ...     179.591163      177.714350\n",
              "538    11          24.983732  ...     179.217187      177.440177\n",
              "539    11          47.681568  ...     176.481396      176.763315\n",
              "\n",
              "[540 rows x 9 columns]"
            ]
          },
          "metadata": {
            "tags": []
          },
          "execution_count": 5
        }
      ]
    },
    {
      "cell_type": "code",
      "metadata": {
        "colab": {
          "base_uri": "https://localhost:8080/"
        },
        "id": "HhQe4q7u1RMA",
        "outputId": "0d7a79ab-716a-4444-d3bd-29001f1b87d0"
      },
      "source": [
        "print(f'Humber of rows/examples and columns in the dataset: {all_ds.shape}')"
      ],
      "execution_count": null,
      "outputs": [
        {
          "output_type": "stream",
          "text": [
            "Humber of rows/examples and columns in the dataset: (540, 9)\n"
          ],
          "name": "stdout"
        }
      ]
    },
    {
      "cell_type": "code",
      "metadata": {
        "colab": {
          "base_uri": "https://localhost:8080/"
        },
        "id": "rGWc_JYg1j0v",
        "outputId": "f83c514f-3d84-4789-b263-81d40fe0da9c"
      },
      "source": [
        "# Summary of information on the dataset\n",
        "all_ds.info()"
      ],
      "execution_count": null,
      "outputs": [
        {
          "output_type": "stream",
          "text": [
            "<class 'pandas.core.frame.DataFrame'>\n",
            "RangeIndex: 540 entries, 0 to 539\n",
            "Data columns (total 9 columns):\n",
            " #   Column              Non-Null Count  Dtype  \n",
            "---  ------              --------------  -----  \n",
            " 0   POSE                540 non-null    int64  \n",
            " 1   LeftShoulderAngle   540 non-null    float64\n",
            " 2   RightShoulderAngle  540 non-null    float64\n",
            " 3   LeftElbowAngle      540 non-null    float64\n",
            " 4   RightElbowAngle     540 non-null    float64\n",
            " 5   LeftHipAngle        540 non-null    float64\n",
            " 6   RightHipAngle       540 non-null    float64\n",
            " 7   LeftKneeAngle       540 non-null    float64\n",
            " 8   RightKneeAngle      540 non-null    float64\n",
            "dtypes: float64(8), int64(1)\n",
            "memory usage: 38.1 KB\n"
          ],
          "name": "stdout"
        }
      ]
    },
    {
      "cell_type": "code",
      "metadata": {
        "colab": {
          "base_uri": "https://localhost:8080/",
          "height": 415
        },
        "id": "6HgMnUIE1vA6",
        "outputId": "6ce6aec0-f45d-4e4d-fc16-a3664f1c0c96"
      },
      "source": [
        "# Shuffle the rows to make sure the data is not sorted\n",
        "all_ds = all_ds.sample(frac=1)\n",
        "all_ds"
      ],
      "execution_count": null,
      "outputs": [
        {
          "output_type": "execute_result",
          "data": {
            "text/html": [
              "<div>\n",
              "<style scoped>\n",
              "    .dataframe tbody tr th:only-of-type {\n",
              "        vertical-align: middle;\n",
              "    }\n",
              "\n",
              "    .dataframe tbody tr th {\n",
              "        vertical-align: top;\n",
              "    }\n",
              "\n",
              "    .dataframe thead th {\n",
              "        text-align: right;\n",
              "    }\n",
              "</style>\n",
              "<table border=\"1\" class=\"dataframe\">\n",
              "  <thead>\n",
              "    <tr style=\"text-align: right;\">\n",
              "      <th></th>\n",
              "      <th>POSE</th>\n",
              "      <th>LeftShoulderAngle</th>\n",
              "      <th>RightShoulderAngle</th>\n",
              "      <th>LeftElbowAngle</th>\n",
              "      <th>RightElbowAngle</th>\n",
              "      <th>LeftHipAngle</th>\n",
              "      <th>RightHipAngle</th>\n",
              "      <th>LeftKneeAngle</th>\n",
              "      <th>RightKneeAngle</th>\n",
              "    </tr>\n",
              "  </thead>\n",
              "  <tbody>\n",
              "    <tr>\n",
              "      <th>356</th>\n",
              "      <td>7</td>\n",
              "      <td>37.997893</td>\n",
              "      <td>27.631339</td>\n",
              "      <td>68.008347</td>\n",
              "      <td>68.084145</td>\n",
              "      <td>53.100875</td>\n",
              "      <td>56.812489</td>\n",
              "      <td>39.109458</td>\n",
              "      <td>40.450327</td>\n",
              "    </tr>\n",
              "    <tr>\n",
              "      <th>306</th>\n",
              "      <td>6</td>\n",
              "      <td>173.212658</td>\n",
              "      <td>168.772107</td>\n",
              "      <td>158.197116</td>\n",
              "      <td>139.825201</td>\n",
              "      <td>178.330188</td>\n",
              "      <td>139.090782</td>\n",
              "      <td>177.589812</td>\n",
              "      <td>46.456901</td>\n",
              "    </tr>\n",
              "    <tr>\n",
              "      <th>8</th>\n",
              "      <td>0</td>\n",
              "      <td>13.928125</td>\n",
              "      <td>43.130985</td>\n",
              "      <td>145.725273</td>\n",
              "      <td>174.391358</td>\n",
              "      <td>135.580225</td>\n",
              "      <td>160.338349</td>\n",
              "      <td>64.448729</td>\n",
              "      <td>17.305842</td>\n",
              "    </tr>\n",
              "    <tr>\n",
              "      <th>339</th>\n",
              "      <td>7</td>\n",
              "      <td>21.059987</td>\n",
              "      <td>13.422742</td>\n",
              "      <td>51.323728</td>\n",
              "      <td>48.523747</td>\n",
              "      <td>54.044787</td>\n",
              "      <td>51.672294</td>\n",
              "      <td>39.035542</td>\n",
              "      <td>37.670689</td>\n",
              "    </tr>\n",
              "    <tr>\n",
              "      <th>278</th>\n",
              "      <td>6</td>\n",
              "      <td>170.636663</td>\n",
              "      <td>174.120855</td>\n",
              "      <td>136.588515</td>\n",
              "      <td>134.552924</td>\n",
              "      <td>124.410270</td>\n",
              "      <td>172.960447</td>\n",
              "      <td>22.243385</td>\n",
              "      <td>170.800191</td>\n",
              "    </tr>\n",
              "    <tr>\n",
              "      <th>...</th>\n",
              "      <td>...</td>\n",
              "      <td>...</td>\n",
              "      <td>...</td>\n",
              "      <td>...</td>\n",
              "      <td>...</td>\n",
              "      <td>...</td>\n",
              "      <td>...</td>\n",
              "      <td>...</td>\n",
              "      <td>...</td>\n",
              "    </tr>\n",
              "    <tr>\n",
              "      <th>16</th>\n",
              "      <td>0</td>\n",
              "      <td>21.424845</td>\n",
              "      <td>27.107781</td>\n",
              "      <td>173.129408</td>\n",
              "      <td>171.473019</td>\n",
              "      <td>127.470058</td>\n",
              "      <td>119.419219</td>\n",
              "      <td>39.161501</td>\n",
              "      <td>50.480122</td>\n",
              "    </tr>\n",
              "    <tr>\n",
              "      <th>296</th>\n",
              "      <td>6</td>\n",
              "      <td>178.527676</td>\n",
              "      <td>179.726282</td>\n",
              "      <td>159.746503</td>\n",
              "      <td>148.318746</td>\n",
              "      <td>134.478734</td>\n",
              "      <td>172.457240</td>\n",
              "      <td>56.955298</td>\n",
              "      <td>162.153254</td>\n",
              "    </tr>\n",
              "    <tr>\n",
              "      <th>511</th>\n",
              "      <td>11</td>\n",
              "      <td>2.462386</td>\n",
              "      <td>0.770261</td>\n",
              "      <td>159.747702</td>\n",
              "      <td>169.554037</td>\n",
              "      <td>176.952935</td>\n",
              "      <td>174.593104</td>\n",
              "      <td>165.340838</td>\n",
              "      <td>162.368955</td>\n",
              "    </tr>\n",
              "    <tr>\n",
              "      <th>192</th>\n",
              "      <td>4</td>\n",
              "      <td>28.835857</td>\n",
              "      <td>172.963985</td>\n",
              "      <td>168.480331</td>\n",
              "      <td>156.571869</td>\n",
              "      <td>133.364689</td>\n",
              "      <td>121.808764</td>\n",
              "      <td>149.690972</td>\n",
              "      <td>123.540924</td>\n",
              "    </tr>\n",
              "    <tr>\n",
              "      <th>235</th>\n",
              "      <td>5</td>\n",
              "      <td>53.822034</td>\n",
              "      <td>54.818443</td>\n",
              "      <td>172.442759</td>\n",
              "      <td>172.820606</td>\n",
              "      <td>66.756210</td>\n",
              "      <td>67.777842</td>\n",
              "      <td>156.900018</td>\n",
              "      <td>152.164293</td>\n",
              "    </tr>\n",
              "  </tbody>\n",
              "</table>\n",
              "<p>540 rows × 9 columns</p>\n",
              "</div>"
            ],
            "text/plain": [
              "     POSE  LeftShoulderAngle  ...  LeftKneeAngle  RightKneeAngle\n",
              "356     7          37.997893  ...      39.109458       40.450327\n",
              "306     6         173.212658  ...     177.589812       46.456901\n",
              "8       0          13.928125  ...      64.448729       17.305842\n",
              "339     7          21.059987  ...      39.035542       37.670689\n",
              "278     6         170.636663  ...      22.243385      170.800191\n",
              "..    ...                ...  ...            ...             ...\n",
              "16      0          21.424845  ...      39.161501       50.480122\n",
              "296     6         178.527676  ...      56.955298      162.153254\n",
              "511    11           2.462386  ...     165.340838      162.368955\n",
              "192     4          28.835857  ...     149.690972      123.540924\n",
              "235     5          53.822034  ...     156.900018      152.164293\n",
              "\n",
              "[540 rows x 9 columns]"
            ]
          },
          "metadata": {
            "tags": []
          },
          "execution_count": 8
        }
      ]
    },
    {
      "cell_type": "markdown",
      "metadata": {
        "id": "Zs22gAb69Yc2"
      },
      "source": [
        "## Spit Data into Train/test split"
      ]
    },
    {
      "cell_type": "code",
      "metadata": {
        "colab": {
          "base_uri": "https://localhost:8080/"
        },
        "id": "BqBCB-vN2NsX",
        "outputId": "4f76ebe8-1ef6-48df-eef9-87285b99150a"
      },
      "source": [
        "# Split the data into 80% train and 20% test (later will divide the test to test and validate)\n",
        "train_dataset, temp_test_dataset = train_test_split(all_ds, test_size=0.2)\n",
        "\n",
        "print(train_dataset.shape)\n",
        "print(temp_test_dataset.shape)"
      ],
      "execution_count": null,
      "outputs": [
        {
          "output_type": "stream",
          "text": [
            "(432, 9)\n",
            "(108, 9)\n"
          ],
          "name": "stdout"
        }
      ]
    },
    {
      "cell_type": "code",
      "metadata": {
        "colab": {
          "base_uri": "https://localhost:8080/"
        },
        "id": "6ic-UHbq-Qdd",
        "outputId": "9516d41c-97c2-4aab-ecce-8b3ea29eb2ba"
      },
      "source": [
        "# Split the test_dataset dataframe to 50% test and 50% validation\n",
        "test_dataset, valid_dataset = train_test_split(temp_test_dataset, test_size=0.5)\n",
        "\n",
        "print(test_dataset.shape)\n",
        "print(valid_dataset.shape)"
      ],
      "execution_count": null,
      "outputs": [
        {
          "output_type": "stream",
          "text": [
            "(54, 9)\n",
            "(54, 9)\n"
          ],
          "name": "stdout"
        }
      ]
    },
    {
      "cell_type": "code",
      "metadata": {
        "colab": {
          "base_uri": "https://localhost:8080/"
        },
        "id": "rVsgIvAb-z99",
        "outputId": "7d028356-9304-4936-9852-3917cbd69b23"
      },
      "source": [
        "print(f\"Display the datatype of the test_dataset: {type(test_dataset)}\")\n",
        "print(f\" Train dataset     : {train_dataset.shape}\")\n",
        "print(f\" Test  dataset     : {test_dataset.shape}\")\n",
        "print(f\" Valid dataset     : {valid_dataset.shape}\")"
      ],
      "execution_count": null,
      "outputs": [
        {
          "output_type": "stream",
          "text": [
            "Display the datatype of the test_dataset: <class 'pandas.core.frame.DataFrame'>\n",
            " Train dataset     : (432, 9)\n",
            " Test  dataset     : (54, 9)\n",
            " Valid dataset     : (54, 9)\n"
          ],
          "name": "stdout"
        }
      ]
    },
    {
      "cell_type": "code",
      "metadata": {
        "colab": {
          "base_uri": "https://localhost:8080/",
          "height": 1000
        },
        "id": "leJuC3iJ_egc",
        "outputId": "18986201-1098-4492-b0a9-40ff7b723d7e"
      },
      "source": [
        "# Plot the relationship between each two variables to spot anything incorrect\n",
        "\n",
        "train_stats = train_dataset.describe()\n",
        "train_stats.pop(\"POSE\")\n",
        "sns.pairplot(train_stats[train_stats.columns], diag_kind=\"kde\")"
      ],
      "execution_count": null,
      "outputs": [
        {
          "output_type": "execute_result",
          "data": {
            "text/plain": [
              "<seaborn.axisgrid.PairGrid at 0x7f8982bebd50>"
            ]
          },
          "metadata": {
            "tags": []
          },
          "execution_count": 12
        },
        {
          "output_type": "display_data",
          "data": {
            "image/png": "[encoded data removed]",
            "text/plain": [
              "<Figure size 1440x1440 with 72 Axes>"
            ]
          },
          "metadata": {
            "tags": [],
            "needs_background": "light"
          }
        }
      ]
    },
    {
      "cell_type": "code",
      "metadata": {
        "colab": {
          "base_uri": "https://localhost:8080/",
          "height": 294
        },
        "id": "QUJyaWHqIe1N",
        "outputId": "750804bf-f7ae-491f-a990-1a0d2452592d"
      },
      "source": [
        "# Statistics on the train dataset to make sureit is in a good shape. (You may display the same stat for test and validate)\n",
        "train_stats = train_dataset.describe()\n",
        "train_stats.pop(\"POSE\")\n",
        "train_stats = train_stats.transpose()\n",
        "train_stats"
      ],
      "execution_count": null,
      "outputs": [
        {
          "output_type": "execute_result",
          "data": {
            "text/html": [
              "<div>\n",
              "<style scoped>\n",
              "    .dataframe tbody tr th:only-of-type {\n",
              "        vertical-align: middle;\n",
              "    }\n",
              "\n",
              "    .dataframe tbody tr th {\n",
              "        vertical-align: top;\n",
              "    }\n",
              "\n",
              "    .dataframe thead th {\n",
              "        text-align: right;\n",
              "    }\n",
              "</style>\n",
              "<table border=\"1\" class=\"dataframe\">\n",
              "  <thead>\n",
              "    <tr style=\"text-align: right;\">\n",
              "      <th></th>\n",
              "      <th>count</th>\n",
              "      <th>mean</th>\n",
              "      <th>std</th>\n",
              "      <th>min</th>\n",
              "      <th>25%</th>\n",
              "      <th>50%</th>\n",
              "      <th>75%</th>\n",
              "      <th>max</th>\n",
              "    </tr>\n",
              "  </thead>\n",
              "  <tbody>\n",
              "    <tr>\n",
              "      <th>LeftShoulderAngle</th>\n",
              "      <td>432.0</td>\n",
              "      <td>81.971823</td>\n",
              "      <td>58.651467</td>\n",
              "      <td>0.506935</td>\n",
              "      <td>33.919083</td>\n",
              "      <td>69.487701</td>\n",
              "      <td>146.603243</td>\n",
              "      <td>179.887471</td>\n",
              "    </tr>\n",
              "    <tr>\n",
              "      <th>RightShoulderAngle</th>\n",
              "      <td>432.0</td>\n",
              "      <td>80.949373</td>\n",
              "      <td>60.042641</td>\n",
              "      <td>0.107248</td>\n",
              "      <td>29.412995</td>\n",
              "      <td>69.256003</td>\n",
              "      <td>151.998784</td>\n",
              "      <td>179.975379</td>\n",
              "    </tr>\n",
              "    <tr>\n",
              "      <th>LeftElbowAngle</th>\n",
              "      <td>432.0</td>\n",
              "      <td>141.700956</td>\n",
              "      <td>42.488234</td>\n",
              "      <td>5.472170</td>\n",
              "      <td>132.380176</td>\n",
              "      <td>160.460707</td>\n",
              "      <td>168.984666</td>\n",
              "      <td>179.984053</td>\n",
              "    </tr>\n",
              "    <tr>\n",
              "      <th>RightElbowAngle</th>\n",
              "      <td>432.0</td>\n",
              "      <td>144.145222</td>\n",
              "      <td>42.517405</td>\n",
              "      <td>26.953156</td>\n",
              "      <td>136.220520</td>\n",
              "      <td>164.258374</td>\n",
              "      <td>171.863054</td>\n",
              "      <td>179.917401</td>\n",
              "    </tr>\n",
              "    <tr>\n",
              "      <th>LeftHipAngle</th>\n",
              "      <td>432.0</td>\n",
              "      <td>107.083887</td>\n",
              "      <td>40.900613</td>\n",
              "      <td>30.772420</td>\n",
              "      <td>75.819114</td>\n",
              "      <td>104.441538</td>\n",
              "      <td>137.399343</td>\n",
              "      <td>179.954858</td>\n",
              "    </tr>\n",
              "    <tr>\n",
              "      <th>RightHipAngle</th>\n",
              "      <td>432.0</td>\n",
              "      <td>103.544109</td>\n",
              "      <td>39.559200</td>\n",
              "      <td>35.674085</td>\n",
              "      <td>69.590238</td>\n",
              "      <td>99.704919</td>\n",
              "      <td>135.305385</td>\n",
              "      <td>179.867640</td>\n",
              "    </tr>\n",
              "    <tr>\n",
              "      <th>LeftKneeAngle</th>\n",
              "      <td>432.0</td>\n",
              "      <td>122.986830</td>\n",
              "      <td>54.500052</td>\n",
              "      <td>8.163497</td>\n",
              "      <td>81.754808</td>\n",
              "      <td>151.257355</td>\n",
              "      <td>170.521577</td>\n",
              "      <td>179.989053</td>\n",
              "    </tr>\n",
              "    <tr>\n",
              "      <th>RightKneeAngle</th>\n",
              "      <td>432.0</td>\n",
              "      <td>118.209458</td>\n",
              "      <td>54.990222</td>\n",
              "      <td>10.022567</td>\n",
              "      <td>74.067459</td>\n",
              "      <td>128.533036</td>\n",
              "      <td>168.794356</td>\n",
              "      <td>179.924549</td>\n",
              "    </tr>\n",
              "  </tbody>\n",
              "</table>\n",
              "</div>"
            ],
            "text/plain": [
              "                    count        mean  ...         75%         max\n",
              "LeftShoulderAngle   432.0   81.971823  ...  146.603243  179.887471\n",
              "RightShoulderAngle  432.0   80.949373  ...  151.998784  179.975379\n",
              "LeftElbowAngle      432.0  141.700956  ...  168.984666  179.984053\n",
              "RightElbowAngle     432.0  144.145222  ...  171.863054  179.917401\n",
              "LeftHipAngle        432.0  107.083887  ...  137.399343  179.954858\n",
              "RightHipAngle       432.0  103.544109  ...  135.305385  179.867640\n",
              "LeftKneeAngle       432.0  122.986830  ...  170.521577  179.989053\n",
              "RightKneeAngle      432.0  118.209458  ...  168.794356  179.924549\n",
              "\n",
              "[8 rows x 8 columns]"
            ]
          },
          "metadata": {
            "tags": []
          },
          "execution_count": 13
        }
      ]
    },
    {
      "cell_type": "code",
      "metadata": {
        "id": "x5-Gc5vJJeWH"
      },
      "source": [
        "train_labels1 = train_dataset.pop(\"POSE\")\n",
        "test_labels1 = test_dataset.pop(\"POSE\")\n",
        "valid_labels1 = valid_dataset.pop(\"POSE\")"
      ],
      "execution_count": null,
      "outputs": []
    },
    {
      "cell_type": "code",
      "metadata": {
        "colab": {
          "base_uri": "https://localhost:8080/",
          "height": 415
        },
        "id": "f5bRz8v0KJUc",
        "outputId": "60ea8900-bcd6-449d-e339-8acfe4012d02"
      },
      "source": [
        "train_labels = pd.get_dummies(train_labels1, prefix='Label')\n",
        "test_labels = pd.get_dummies(test_labels1, prefix='Label')\n",
        "valid_labels = pd.get_dummies(valid_labels1, prefix='Label')\n",
        "\n",
        "train_labels"
      ],
      "execution_count": null,
      "outputs": [
        {
          "output_type": "execute_result",
          "data": {
            "text/html": [
              "<div>\n",
              "<style scoped>\n",
              "    .dataframe tbody tr th:only-of-type {\n",
              "        vertical-align: middle;\n",
              "    }\n",
              "\n",
              "    .dataframe tbody tr th {\n",
              "        vertical-align: top;\n",
              "    }\n",
              "\n",
              "    .dataframe thead th {\n",
              "        text-align: right;\n",
              "    }\n",
              "</style>\n",
              "<table border=\"1\" class=\"dataframe\">\n",
              "  <thead>\n",
              "    <tr style=\"text-align: right;\">\n",
              "      <th></th>\n",
              "      <th>Label_0</th>\n",
              "      <th>Label_1</th>\n",
              "      <th>Label_2</th>\n",
              "      <th>Label_3</th>\n",
              "      <th>Label_4</th>\n",
              "      <th>Label_5</th>\n",
              "      <th>Label_6</th>\n",
              "      <th>Label_7</th>\n",
              "      <th>Label_8</th>\n",
              "      <th>Label_9</th>\n",
              "      <th>Label_10</th>\n",
              "      <th>Label_11</th>\n",
              "    </tr>\n",
              "  </thead>\n",
              "  <tbody>\n",
              "    <tr>\n",
              "      <th>396</th>\n",
              "      <td>0</td>\n",
              "      <td>0</td>\n",
              "      <td>0</td>\n",
              "      <td>0</td>\n",
              "      <td>0</td>\n",
              "      <td>0</td>\n",
              "      <td>0</td>\n",
              "      <td>0</td>\n",
              "      <td>1</td>\n",
              "      <td>0</td>\n",
              "      <td>0</td>\n",
              "      <td>0</td>\n",
              "    </tr>\n",
              "    <tr>\n",
              "      <th>52</th>\n",
              "      <td>0</td>\n",
              "      <td>1</td>\n",
              "      <td>0</td>\n",
              "      <td>0</td>\n",
              "      <td>0</td>\n",
              "      <td>0</td>\n",
              "      <td>0</td>\n",
              "      <td>0</td>\n",
              "      <td>0</td>\n",
              "      <td>0</td>\n",
              "      <td>0</td>\n",
              "      <td>0</td>\n",
              "    </tr>\n",
              "    <tr>\n",
              "      <th>42</th>\n",
              "      <td>1</td>\n",
              "      <td>0</td>\n",
              "      <td>0</td>\n",
              "      <td>0</td>\n",
              "      <td>0</td>\n",
              "      <td>0</td>\n",
              "      <td>0</td>\n",
              "      <td>0</td>\n",
              "      <td>0</td>\n",
              "      <td>0</td>\n",
              "      <td>0</td>\n",
              "      <td>0</td>\n",
              "    </tr>\n",
              "    <tr>\n",
              "      <th>387</th>\n",
              "      <td>0</td>\n",
              "      <td>0</td>\n",
              "      <td>0</td>\n",
              "      <td>0</td>\n",
              "      <td>0</td>\n",
              "      <td>0</td>\n",
              "      <td>0</td>\n",
              "      <td>0</td>\n",
              "      <td>1</td>\n",
              "      <td>0</td>\n",
              "      <td>0</td>\n",
              "      <td>0</td>\n",
              "    </tr>\n",
              "    <tr>\n",
              "      <th>69</th>\n",
              "      <td>0</td>\n",
              "      <td>1</td>\n",
              "      <td>0</td>\n",
              "      <td>0</td>\n",
              "      <td>0</td>\n",
              "      <td>0</td>\n",
              "      <td>0</td>\n",
              "      <td>0</td>\n",
              "      <td>0</td>\n",
              "      <td>0</td>\n",
              "      <td>0</td>\n",
              "      <td>0</td>\n",
              "    </tr>\n",
              "    <tr>\n",
              "      <th>...</th>\n",
              "      <td>...</td>\n",
              "      <td>...</td>\n",
              "      <td>...</td>\n",
              "      <td>...</td>\n",
              "      <td>...</td>\n",
              "      <td>...</td>\n",
              "      <td>...</td>\n",
              "      <td>...</td>\n",
              "      <td>...</td>\n",
              "      <td>...</td>\n",
              "      <td>...</td>\n",
              "      <td>...</td>\n",
              "    </tr>\n",
              "    <tr>\n",
              "      <th>186</th>\n",
              "      <td>0</td>\n",
              "      <td>0</td>\n",
              "      <td>0</td>\n",
              "      <td>0</td>\n",
              "      <td>1</td>\n",
              "      <td>0</td>\n",
              "      <td>0</td>\n",
              "      <td>0</td>\n",
              "      <td>0</td>\n",
              "      <td>0</td>\n",
              "      <td>0</td>\n",
              "      <td>0</td>\n",
              "    </tr>\n",
              "    <tr>\n",
              "      <th>84</th>\n",
              "      <td>0</td>\n",
              "      <td>1</td>\n",
              "      <td>0</td>\n",
              "      <td>0</td>\n",
              "      <td>0</td>\n",
              "      <td>0</td>\n",
              "      <td>0</td>\n",
              "      <td>0</td>\n",
              "      <td>0</td>\n",
              "      <td>0</td>\n",
              "      <td>0</td>\n",
              "      <td>0</td>\n",
              "    </tr>\n",
              "    <tr>\n",
              "      <th>346</th>\n",
              "      <td>0</td>\n",
              "      <td>0</td>\n",
              "      <td>0</td>\n",
              "      <td>0</td>\n",
              "      <td>0</td>\n",
              "      <td>0</td>\n",
              "      <td>0</td>\n",
              "      <td>1</td>\n",
              "      <td>0</td>\n",
              "      <td>0</td>\n",
              "      <td>0</td>\n",
              "      <td>0</td>\n",
              "    </tr>\n",
              "    <tr>\n",
              "      <th>299</th>\n",
              "      <td>0</td>\n",
              "      <td>0</td>\n",
              "      <td>0</td>\n",
              "      <td>0</td>\n",
              "      <td>0</td>\n",
              "      <td>0</td>\n",
              "      <td>1</td>\n",
              "      <td>0</td>\n",
              "      <td>0</td>\n",
              "      <td>0</td>\n",
              "      <td>0</td>\n",
              "      <td>0</td>\n",
              "    </tr>\n",
              "    <tr>\n",
              "      <th>71</th>\n",
              "      <td>0</td>\n",
              "      <td>1</td>\n",
              "      <td>0</td>\n",
              "      <td>0</td>\n",
              "      <td>0</td>\n",
              "      <td>0</td>\n",
              "      <td>0</td>\n",
              "      <td>0</td>\n",
              "      <td>0</td>\n",
              "      <td>0</td>\n",
              "      <td>0</td>\n",
              "      <td>0</td>\n",
              "    </tr>\n",
              "  </tbody>\n",
              "</table>\n",
              "<p>432 rows × 12 columns</p>\n",
              "</div>"
            ],
            "text/plain": [
              "     Label_0  Label_1  Label_2  Label_3  ...  Label_8  Label_9  Label_10  Label_11\n",
              "396        0        0        0        0  ...        1        0         0         0\n",
              "52         0        1        0        0  ...        0        0         0         0\n",
              "42         1        0        0        0  ...        0        0         0         0\n",
              "387        0        0        0        0  ...        1        0         0         0\n",
              "69         0        1        0        0  ...        0        0         0         0\n",
              "..       ...      ...      ...      ...  ...      ...      ...       ...       ...\n",
              "186        0        0        0        0  ...        0        0         0         0\n",
              "84         0        1        0        0  ...        0        0         0         0\n",
              "346        0        0        0        0  ...        0        0         0         0\n",
              "299        0        0        0        0  ...        0        0         0         0\n",
              "71         0        1        0        0  ...        0        0         0         0\n",
              "\n",
              "[432 rows x 12 columns]"
            ]
          },
          "metadata": {
            "tags": []
          },
          "execution_count": 15
        }
      ]
    },
    {
      "cell_type": "markdown",
      "metadata": {
        "id": "QxrV4P1sMBTS"
      },
      "source": [
        "# Data Normalization/Scaling\n",
        "\n",
        "## Substract the mean of the training data and divide by the standar deviation of the training data."
      ]
    },
    {
      "cell_type": "code",
      "metadata": {
        "id": "Lyp3vQXuLumm"
      },
      "source": [
        "# Define a function to normalize the data set\n",
        "def norm(x):\n",
        "  return (x - train_stats['mean']) / train_stats['std']\n",
        "\n",
        "normed_train_data = norm(train_dataset)\n",
        "normed_test_data = norm(test_dataset)\n",
        "normed_valid_dataset = norm(valid_dataset)"
      ],
      "execution_count": null,
      "outputs": []
    },
    {
      "cell_type": "code",
      "metadata": {
        "colab": {
          "base_uri": "https://localhost:8080/",
          "height": 355
        },
        "id": "WjJlFj22MvC4",
        "outputId": "33724668-7658-4280-dc61-fd585a4a202e"
      },
      "source": [
        "# Show a sample of the data after normalization\n",
        "normed_test_data.head(10)"
      ],
      "execution_count": null,
      "outputs": [
        {
          "output_type": "execute_result",
          "data": {
            "text/html": [
              "<div>\n",
              "<style scoped>\n",
              "    .dataframe tbody tr th:only-of-type {\n",
              "        vertical-align: middle;\n",
              "    }\n",
              "\n",
              "    .dataframe tbody tr th {\n",
              "        vertical-align: top;\n",
              "    }\n",
              "\n",
              "    .dataframe thead th {\n",
              "        text-align: right;\n",
              "    }\n",
              "</style>\n",
              "<table border=\"1\" class=\"dataframe\">\n",
              "  <thead>\n",
              "    <tr style=\"text-align: right;\">\n",
              "      <th></th>\n",
              "      <th>LeftShoulderAngle</th>\n",
              "      <th>RightShoulderAngle</th>\n",
              "      <th>LeftElbowAngle</th>\n",
              "      <th>RightElbowAngle</th>\n",
              "      <th>LeftHipAngle</th>\n",
              "      <th>RightHipAngle</th>\n",
              "      <th>LeftKneeAngle</th>\n",
              "      <th>RightKneeAngle</th>\n",
              "    </tr>\n",
              "  </thead>\n",
              "  <tbody>\n",
              "    <tr>\n",
              "      <th>129</th>\n",
              "      <td>-0.625991</td>\n",
              "      <td>-0.724327</td>\n",
              "      <td>-2.130797</td>\n",
              "      <td>-2.199224</td>\n",
              "      <td>-1.021531</td>\n",
              "      <td>-1.526017</td>\n",
              "      <td>-0.437583</td>\n",
              "      <td>-0.265547</td>\n",
              "    </tr>\n",
              "    <tr>\n",
              "      <th>476</th>\n",
              "      <td>-0.995985</td>\n",
              "      <td>-1.343080</td>\n",
              "      <td>-2.953819</td>\n",
              "      <td>-2.385458</td>\n",
              "      <td>0.226579</td>\n",
              "      <td>0.274257</td>\n",
              "      <td>-0.002211</td>\n",
              "      <td>0.047593</td>\n",
              "    </tr>\n",
              "    <tr>\n",
              "      <th>523</th>\n",
              "      <td>-1.145051</td>\n",
              "      <td>-0.882231</td>\n",
              "      <td>-1.315858</td>\n",
              "      <td>-0.269977</td>\n",
              "      <td>1.455398</td>\n",
              "      <td>1.698218</td>\n",
              "      <td>0.950681</td>\n",
              "      <td>0.988732</td>\n",
              "    </tr>\n",
              "    <tr>\n",
              "      <th>401</th>\n",
              "      <td>0.276028</td>\n",
              "      <td>0.151621</td>\n",
              "      <td>0.666224</td>\n",
              "      <td>0.491132</td>\n",
              "      <td>0.772507</td>\n",
              "      <td>-1.028069</td>\n",
              "      <td>0.841707</td>\n",
              "      <td>0.784675</td>\n",
              "    </tr>\n",
              "    <tr>\n",
              "      <th>352</th>\n",
              "      <td>-0.793922</td>\n",
              "      <td>-0.723710</td>\n",
              "      <td>-1.762079</td>\n",
              "      <td>-1.849545</td>\n",
              "      <td>-0.394102</td>\n",
              "      <td>-0.775541</td>\n",
              "      <td>-1.260788</td>\n",
              "      <td>-1.266979</td>\n",
              "    </tr>\n",
              "    <tr>\n",
              "      <th>286</th>\n",
              "      <td>-0.786804</td>\n",
              "      <td>-0.948961</td>\n",
              "      <td>-2.686290</td>\n",
              "      <td>-2.533979</td>\n",
              "      <td>1.693556</td>\n",
              "      <td>0.847306</td>\n",
              "      <td>1.041601</td>\n",
              "      <td>-1.594798</td>\n",
              "    </tr>\n",
              "    <tr>\n",
              "      <th>83</th>\n",
              "      <td>-0.181275</td>\n",
              "      <td>-0.089094</td>\n",
              "      <td>0.792525</td>\n",
              "      <td>0.760874</td>\n",
              "      <td>0.005696</td>\n",
              "      <td>0.413333</td>\n",
              "      <td>-0.661828</td>\n",
              "      <td>-0.392866</td>\n",
              "    </tr>\n",
              "    <tr>\n",
              "      <th>210</th>\n",
              "      <td>-0.593652</td>\n",
              "      <td>1.565734</td>\n",
              "      <td>0.404824</td>\n",
              "      <td>0.109245</td>\n",
              "      <td>-0.060679</td>\n",
              "      <td>1.159382</td>\n",
              "      <td>0.516410</td>\n",
              "      <td>-0.115476</td>\n",
              "    </tr>\n",
              "    <tr>\n",
              "      <th>188</th>\n",
              "      <td>-0.760270</td>\n",
              "      <td>1.549197</td>\n",
              "      <td>0.758209</td>\n",
              "      <td>0.557984</td>\n",
              "      <td>0.190376</td>\n",
              "      <td>0.598352</td>\n",
              "      <td>0.980012</td>\n",
              "      <td>0.291089</td>\n",
              "    </tr>\n",
              "    <tr>\n",
              "      <th>496</th>\n",
              "      <td>-1.187669</td>\n",
              "      <td>-1.324237</td>\n",
              "      <td>-1.125421</td>\n",
              "      <td>0.189962</td>\n",
              "      <td>1.667078</td>\n",
              "      <td>1.930551</td>\n",
              "      <td>0.814157</td>\n",
              "      <td>0.975552</td>\n",
              "    </tr>\n",
              "  </tbody>\n",
              "</table>\n",
              "</div>"
            ],
            "text/plain": [
              "     LeftShoulderAngle  RightShoulderAngle  ...  LeftKneeAngle  RightKneeAngle\n",
              "129          -0.625991           -0.724327  ...      -0.437583       -0.265547\n",
              "476          -0.995985           -1.343080  ...      -0.002211        0.047593\n",
              "523          -1.145051           -0.882231  ...       0.950681        0.988732\n",
              "401           0.276028            0.151621  ...       0.841707        0.784675\n",
              "352          -0.793922           -0.723710  ...      -1.260788       -1.266979\n",
              "286          -0.786804           -0.948961  ...       1.041601       -1.594798\n",
              "83           -0.181275           -0.089094  ...      -0.661828       -0.392866\n",
              "210          -0.593652            1.565734  ...       0.516410       -0.115476\n",
              "188          -0.760270            1.549197  ...       0.980012        0.291089\n",
              "496          -1.187669           -1.324237  ...       0.814157        0.975552\n",
              "\n",
              "[10 rows x 8 columns]"
            ]
          },
          "metadata": {
            "tags": []
          },
          "execution_count": 17
        }
      ]
    },
    {
      "cell_type": "markdown",
      "metadata": {
        "id": "1zHVpzqhHIYX"
      },
      "source": [
        "# Build a Neural Network Model"
      ]
    },
    {
      "cell_type": "code",
      "metadata": {
        "id": "_P6WhxVGM2ad",
        "colab": {
          "base_uri": "https://localhost:8080/"
        },
        "outputId": "696402e1-32bd-4dc1-d471-48b2365f9a80"
      },
      "source": [
        "def build_model_two_hidden_layers():\n",
        "  model = Sequential()\n",
        "  model.add(Dense(16, input_shape = (normed_train_data.shape[1],)))\n",
        "  model.add(Dense(14, input_shape = (normed_train_data.shape[1],)))\n",
        "  model.add(Dense(12, activation='softmax'))\n",
        "  learning_rate = 0.00025\n",
        "  optimizer = optimizers.Adam(learning_rate)\n",
        "  model.compile(loss='categorical_crossentropy',\n",
        "                optimizer=optimizer,\n",
        "                metrics=['accuracy'])\n",
        "  return model\n",
        "\n",
        "EPOCHS = 250\n",
        "batch_size = 2\n",
        "\n",
        "model = build_model_two_hidden_layers()\n",
        "print('Here is a summary of this model: ')\n",
        "model.summary()\n",
        "\n",
        "# with tf.device('/CPU:0'):\n",
        "with tf.device('/GPU:0'):\n",
        "  history = model.fit(\n",
        "      normed_train_data,\n",
        "      train_labels,\n",
        "      batch_size = batch_size,\n",
        "      epochs = EPOCHS,\n",
        "      verbose = 1,\n",
        "      shuffle = True,\n",
        "      steps_per_epoch = int(normed_train_data.shape[0] / batch_size),\n",
        "      validation_data = (normed_valid_dataset, valid_labels)\n",
        "  )"
      ],
      "execution_count": null,
      "outputs": [
        {
          "output_type": "stream",
          "text": [
            "Here is a summary of this model: \n",
            "Model: \"sequential\"\n",
            "_________________________________________________________________\n",
            "Layer (type)                 Output Shape              Param #   \n",
            "=================================================================\n",
            "dense (Dense)                (None, 16)                144       \n",
            "_________________________________________________________________\n",
            "dense_1 (Dense)              (None, 14)                238       \n",
            "_________________________________________________________________\n",
            "dense_2 (Dense)              (None, 12)                180       \n",
            "=================================================================\n",
            "Total params: 562\n",
            "Trainable params: 562\n",
            "Non-trainable params: 0\n",
            "_________________________________________________________________\n",
            "Epoch 1/250\n",
            "216/216 [==============================] - 1s 3ms/step - loss: 2.7960 - accuracy: 0.0877 - val_loss: 2.5277 - val_accuracy: 0.1111\n",
            "Epoch 2/250\n",
            "216/216 [==============================] - 0s 1ms/step - loss: 2.4799 - accuracy: 0.1958 - val_loss: 2.2717 - val_accuracy: 0.3148\n",
            "Epoch 3/250\n",
            "216/216 [==============================] - 0s 1ms/step - loss: 2.1835 - accuracy: 0.3811 - val_loss: 2.0761 - val_accuracy: 0.5000\n",
            "Epoch 4/250\n",
            "216/216 [==============================] - 0s 1ms/step - loss: 1.9471 - accuracy: 0.5166 - val_loss: 1.9035 - val_accuracy: 0.5370\n",
            "Epoch 5/250\n",
            "216/216 [==============================] - 0s 1ms/step - loss: 1.8225 - accuracy: 0.5385 - val_loss: 1.7419 - val_accuracy: 0.5370\n",
            "Epoch 6/250\n",
            "216/216 [==============================] - 0s 1ms/step - loss: 1.5718 - accuracy: 0.6196 - val_loss: 1.5884 - val_accuracy: 0.5185\n",
            "Epoch 7/250\n",
            "216/216 [==============================] - 0s 1ms/step - loss: 1.5096 - accuracy: 0.5578 - val_loss: 1.4487 - val_accuracy: 0.5185\n",
            "Epoch 8/250\n",
            "216/216 [==============================] - 0s 2ms/step - loss: 1.3029 - accuracy: 0.6204 - val_loss: 1.3202 - val_accuracy: 0.5556\n",
            "Epoch 9/250\n",
            "216/216 [==============================] - 0s 1ms/step - loss: 1.1824 - accuracy: 0.6216 - val_loss: 1.2051 - val_accuracy: 0.6111\n",
            "Epoch 10/250\n",
            "216/216 [==============================] - 0s 1ms/step - loss: 1.0451 - accuracy: 0.7007 - val_loss: 1.1097 - val_accuracy: 0.6852\n",
            "Epoch 11/250\n",
            "216/216 [==============================] - 0s 1ms/step - loss: 0.9505 - accuracy: 0.7700 - val_loss: 1.0261 - val_accuracy: 0.7593\n",
            "Epoch 12/250\n",
            "216/216 [==============================] - 0s 1ms/step - loss: 0.8862 - accuracy: 0.8067 - val_loss: 0.9525 - val_accuracy: 0.7778\n",
            "Epoch 13/250\n",
            "216/216 [==============================] - 0s 1ms/step - loss: 0.8251 - accuracy: 0.8378 - val_loss: 0.8866 - val_accuracy: 0.8148\n",
            "Epoch 14/250\n",
            "216/216 [==============================] - 0s 1ms/step - loss: 0.8072 - accuracy: 0.8489 - val_loss: 0.8286 - val_accuracy: 0.8148\n",
            "Epoch 15/250\n",
            "216/216 [==============================] - 0s 1ms/step - loss: 0.7262 - accuracy: 0.8633 - val_loss: 0.7737 - val_accuracy: 0.8148\n",
            "Epoch 16/250\n",
            "216/216 [==============================] - 0s 1ms/step - loss: 0.6661 - accuracy: 0.8677 - val_loss: 0.7332 - val_accuracy: 0.8333\n",
            "Epoch 17/250\n",
            "216/216 [==============================] - 0s 1ms/step - loss: 0.6269 - accuracy: 0.8951 - val_loss: 0.6953 - val_accuracy: 0.8333\n",
            "Epoch 18/250\n",
            "216/216 [==============================] - 0s 1ms/step - loss: 0.6161 - accuracy: 0.8800 - val_loss: 0.6656 - val_accuracy: 0.8519\n",
            "Epoch 19/250\n",
            "216/216 [==============================] - 0s 1ms/step - loss: 0.6135 - accuracy: 0.9022 - val_loss: 0.6339 - val_accuracy: 0.8704\n",
            "Epoch 20/250\n",
            "216/216 [==============================] - 0s 1ms/step - loss: 0.5179 - accuracy: 0.9164 - val_loss: 0.6090 - val_accuracy: 0.8889\n",
            "Epoch 21/250\n",
            "216/216 [==============================] - 0s 1ms/step - loss: 0.5128 - accuracy: 0.9062 - val_loss: 0.5846 - val_accuracy: 0.8889\n",
            "Epoch 22/250\n",
            "216/216 [==============================] - 0s 1ms/step - loss: 0.4743 - accuracy: 0.9161 - val_loss: 0.5627 - val_accuracy: 0.9074\n",
            "Epoch 23/250\n",
            "216/216 [==============================] - 0s 1ms/step - loss: 0.4609 - accuracy: 0.9356 - val_loss: 0.5340 - val_accuracy: 0.9074\n",
            "Epoch 24/250\n",
            "216/216 [==============================] - 0s 1ms/step - loss: 0.4589 - accuracy: 0.9099 - val_loss: 0.5191 - val_accuracy: 0.9074\n",
            "Epoch 25/250\n",
            "216/216 [==============================] - 0s 1ms/step - loss: 0.4505 - accuracy: 0.9178 - val_loss: 0.5028 - val_accuracy: 0.9074\n",
            "Epoch 26/250\n",
            "216/216 [==============================] - 0s 1ms/step - loss: 0.4705 - accuracy: 0.9075 - val_loss: 0.4859 - val_accuracy: 0.9074\n",
            "Epoch 27/250\n",
            "216/216 [==============================] - 0s 1ms/step - loss: 0.3890 - accuracy: 0.9237 - val_loss: 0.4647 - val_accuracy: 0.9074\n",
            "Epoch 28/250\n",
            "216/216 [==============================] - 0s 1ms/step - loss: 0.4290 - accuracy: 0.9105 - val_loss: 0.4547 - val_accuracy: 0.9074\n",
            "Epoch 29/250\n",
            "216/216 [==============================] - 0s 1ms/step - loss: 0.3629 - accuracy: 0.9283 - val_loss: 0.4497 - val_accuracy: 0.9074\n",
            "Epoch 30/250\n",
            "216/216 [==============================] - 0s 1ms/step - loss: 0.4299 - accuracy: 0.9104 - val_loss: 0.4437 - val_accuracy: 0.9074\n",
            "Epoch 31/250\n",
            "216/216 [==============================] - 0s 1ms/step - loss: 0.4030 - accuracy: 0.9166 - val_loss: 0.4142 - val_accuracy: 0.9074\n",
            "Epoch 32/250\n",
            "216/216 [==============================] - 0s 1ms/step - loss: 0.4118 - accuracy: 0.9058 - val_loss: 0.4090 - val_accuracy: 0.9074\n",
            "Epoch 33/250\n",
            "216/216 [==============================] - 0s 1ms/step - loss: 0.3296 - accuracy: 0.9446 - val_loss: 0.4013 - val_accuracy: 0.9074\n",
            "Epoch 34/250\n",
            "216/216 [==============================] - 0s 1ms/step - loss: 0.3470 - accuracy: 0.9348 - val_loss: 0.3894 - val_accuracy: 0.9444\n",
            "Epoch 35/250\n",
            "216/216 [==============================] - 0s 1ms/step - loss: 0.3102 - accuracy: 0.9461 - val_loss: 0.3873 - val_accuracy: 0.9444\n",
            "Epoch 36/250\n",
            "216/216 [==============================] - 0s 1ms/step - loss: 0.3539 - accuracy: 0.9203 - val_loss: 0.3759 - val_accuracy: 0.9444\n",
            "Epoch 37/250\n",
            "216/216 [==============================] - 0s 1ms/step - loss: 0.2940 - accuracy: 0.9431 - val_loss: 0.3750 - val_accuracy: 0.9444\n",
            "Epoch 38/250\n",
            "216/216 [==============================] - 0s 1ms/step - loss: 0.3269 - accuracy: 0.9161 - val_loss: 0.3734 - val_accuracy: 0.9444\n",
            "Epoch 39/250\n",
            "216/216 [==============================] - 0s 1ms/step - loss: 0.3220 - accuracy: 0.9466 - val_loss: 0.3595 - val_accuracy: 0.9444\n",
            "Epoch 40/250\n",
            "216/216 [==============================] - 0s 1ms/step - loss: 0.3580 - accuracy: 0.9170 - val_loss: 0.3562 - val_accuracy: 0.9444\n",
            "Epoch 41/250\n",
            "216/216 [==============================] - 0s 1ms/step - loss: 0.3065 - accuracy: 0.9191 - val_loss: 0.3492 - val_accuracy: 0.9444\n",
            "Epoch 42/250\n",
            "216/216 [==============================] - 0s 1ms/step - loss: 0.3539 - accuracy: 0.9297 - val_loss: 0.3340 - val_accuracy: 0.9444\n",
            "Epoch 43/250\n",
            "216/216 [==============================] - 0s 1ms/step - loss: 0.3192 - accuracy: 0.9363 - val_loss: 0.3331 - val_accuracy: 0.9444\n",
            "Epoch 44/250\n",
            "216/216 [==============================] - 0s 1ms/step - loss: 0.3488 - accuracy: 0.9108 - val_loss: 0.3235 - val_accuracy: 0.9444\n",
            "Epoch 45/250\n",
            "216/216 [==============================] - 0s 1ms/step - loss: 0.2566 - accuracy: 0.9437 - val_loss: 0.3251 - val_accuracy: 0.9444\n",
            "Epoch 46/250\n",
            "216/216 [==============================] - 0s 1ms/step - loss: 0.2966 - accuracy: 0.9288 - val_loss: 0.3140 - val_accuracy: 0.9444\n",
            "Epoch 47/250\n",
            "216/216 [==============================] - 0s 1ms/step - loss: 0.2776 - accuracy: 0.9399 - val_loss: 0.3231 - val_accuracy: 0.9444\n",
            "Epoch 48/250\n",
            "216/216 [==============================] - 0s 1ms/step - loss: 0.2764 - accuracy: 0.9359 - val_loss: 0.3087 - val_accuracy: 0.9444\n",
            "Epoch 49/250\n",
            "216/216 [==============================] - 0s 1ms/step - loss: 0.3387 - accuracy: 0.9245 - val_loss: 0.3044 - val_accuracy: 0.9444\n",
            "Epoch 50/250\n",
            "216/216 [==============================] - 0s 1ms/step - loss: 0.2267 - accuracy: 0.9541 - val_loss: 0.2973 - val_accuracy: 0.9444\n",
            "Epoch 51/250\n",
            "216/216 [==============================] - 0s 1ms/step - loss: 0.2586 - accuracy: 0.9433 - val_loss: 0.2919 - val_accuracy: 0.9444\n",
            "Epoch 52/250\n",
            "216/216 [==============================] - 0s 1ms/step - loss: 0.2673 - accuracy: 0.9390 - val_loss: 0.2925 - val_accuracy: 0.9444\n",
            "Epoch 53/250\n",
            "216/216 [==============================] - 0s 1ms/step - loss: 0.2538 - accuracy: 0.9586 - val_loss: 0.2917 - val_accuracy: 0.9444\n",
            "Epoch 54/250\n",
            "216/216 [==============================] - 0s 1ms/step - loss: 0.2662 - accuracy: 0.9401 - val_loss: 0.2831 - val_accuracy: 0.9444\n",
            "Epoch 55/250\n",
            "216/216 [==============================] - 0s 1ms/step - loss: 0.2494 - accuracy: 0.9472 - val_loss: 0.2933 - val_accuracy: 0.9259\n",
            "Epoch 56/250\n",
            "216/216 [==============================] - 0s 1ms/step - loss: 0.2320 - accuracy: 0.9598 - val_loss: 0.2792 - val_accuracy: 0.9444\n",
            "Epoch 57/250\n",
            "216/216 [==============================] - 0s 1ms/step - loss: 0.2160 - accuracy: 0.9656 - val_loss: 0.2710 - val_accuracy: 0.9444\n",
            "Epoch 58/250\n",
            "216/216 [==============================] - 0s 1ms/step - loss: 0.2289 - accuracy: 0.9470 - val_loss: 0.2709 - val_accuracy: 0.9444\n",
            "Epoch 59/250\n",
            "216/216 [==============================] - 0s 1ms/step - loss: 0.2358 - accuracy: 0.9460 - val_loss: 0.2588 - val_accuracy: 0.9444\n",
            "Epoch 60/250\n",
            "216/216 [==============================] - 0s 1ms/step - loss: 0.2687 - accuracy: 0.9458 - val_loss: 0.2616 - val_accuracy: 0.9444\n",
            "Epoch 61/250\n",
            "216/216 [==============================] - 0s 1ms/step - loss: 0.2292 - accuracy: 0.9433 - val_loss: 0.2684 - val_accuracy: 0.9444\n",
            "Epoch 62/250\n",
            "216/216 [==============================] - 0s 1ms/step - loss: 0.2653 - accuracy: 0.9310 - val_loss: 0.2674 - val_accuracy: 0.9444\n",
            "Epoch 63/250\n",
            "216/216 [==============================] - 0s 1ms/step - loss: 0.2502 - accuracy: 0.9446 - val_loss: 0.2668 - val_accuracy: 0.9444\n",
            "Epoch 64/250\n",
            "216/216 [==============================] - 0s 1ms/step - loss: 0.2424 - accuracy: 0.9482 - val_loss: 0.2554 - val_accuracy: 0.9444\n",
            "Epoch 65/250\n",
            "216/216 [==============================] - 0s 1ms/step - loss: 0.1978 - accuracy: 0.9482 - val_loss: 0.2500 - val_accuracy: 0.9444\n",
            "Epoch 66/250\n",
            "216/216 [==============================] - 0s 1ms/step - loss: 0.2178 - accuracy: 0.9502 - val_loss: 0.2567 - val_accuracy: 0.9259\n",
            "Epoch 67/250\n",
            "216/216 [==============================] - 0s 1ms/step - loss: 0.2569 - accuracy: 0.9453 - val_loss: 0.2469 - val_accuracy: 0.9444\n",
            "Epoch 68/250\n",
            "216/216 [==============================] - 0s 1ms/step - loss: 0.2219 - accuracy: 0.9421 - val_loss: 0.2443 - val_accuracy: 0.9444\n",
            "Epoch 69/250\n",
            "216/216 [==============================] - 0s 1ms/step - loss: 0.1883 - accuracy: 0.9552 - val_loss: 0.2460 - val_accuracy: 0.9444\n",
            "Epoch 70/250\n",
            "216/216 [==============================] - 0s 1ms/step - loss: 0.2133 - accuracy: 0.9440 - val_loss: 0.2481 - val_accuracy: 0.9444\n",
            "Epoch 71/250\n",
            "216/216 [==============================] - 0s 1ms/step - loss: 0.1811 - accuracy: 0.9530 - val_loss: 0.2394 - val_accuracy: 0.9444\n",
            "Epoch 72/250\n",
            "216/216 [==============================] - 0s 1ms/step - loss: 0.2072 - accuracy: 0.9371 - val_loss: 0.2351 - val_accuracy: 0.9444\n",
            "Epoch 73/250\n",
            "216/216 [==============================] - 0s 1ms/step - loss: 0.2206 - accuracy: 0.9382 - val_loss: 0.2358 - val_accuracy: 0.9444\n",
            "Epoch 74/250\n",
            "216/216 [==============================] - 0s 1ms/step - loss: 0.1813 - accuracy: 0.9509 - val_loss: 0.2340 - val_accuracy: 0.9444\n",
            "Epoch 75/250\n",
            "216/216 [==============================] - 0s 1ms/step - loss: 0.2102 - accuracy: 0.9354 - val_loss: 0.2364 - val_accuracy: 0.9444\n",
            "Epoch 76/250\n",
            "216/216 [==============================] - 0s 1ms/step - loss: 0.1959 - accuracy: 0.9529 - val_loss: 0.2315 - val_accuracy: 0.9444\n",
            "Epoch 77/250\n",
            "216/216 [==============================] - 0s 1ms/step - loss: 0.1782 - accuracy: 0.9569 - val_loss: 0.2306 - val_accuracy: 0.9444\n",
            "Epoch 78/250\n",
            "216/216 [==============================] - 0s 1ms/step - loss: 0.1958 - accuracy: 0.9467 - val_loss: 0.2284 - val_accuracy: 0.9444\n",
            "Epoch 79/250\n",
            "216/216 [==============================] - 0s 1ms/step - loss: 0.1632 - accuracy: 0.9572 - val_loss: 0.2280 - val_accuracy: 0.9444\n",
            "Epoch 80/250\n",
            "216/216 [==============================] - 0s 1ms/step - loss: 0.2160 - accuracy: 0.9543 - val_loss: 0.2270 - val_accuracy: 0.9259\n",
            "Epoch 81/250\n",
            "216/216 [==============================] - 0s 1ms/step - loss: 0.2182 - accuracy: 0.9451 - val_loss: 0.2178 - val_accuracy: 0.9444\n",
            "Epoch 82/250\n",
            "216/216 [==============================] - 0s 1ms/step - loss: 0.1665 - accuracy: 0.9614 - val_loss: 0.2230 - val_accuracy: 0.9444\n",
            "Epoch 83/250\n",
            "216/216 [==============================] - 0s 2ms/step - loss: 0.1951 - accuracy: 0.9318 - val_loss: 0.2176 - val_accuracy: 0.9444\n",
            "Epoch 84/250\n",
            "216/216 [==============================] - 0s 1ms/step - loss: 0.1868 - accuracy: 0.9545 - val_loss: 0.2134 - val_accuracy: 0.9444\n",
            "Epoch 85/250\n",
            "216/216 [==============================] - 0s 1ms/step - loss: 0.2021 - accuracy: 0.9466 - val_loss: 0.2266 - val_accuracy: 0.9259\n",
            "Epoch 86/250\n",
            "216/216 [==============================] - 0s 1ms/step - loss: 0.2040 - accuracy: 0.9429 - val_loss: 0.2191 - val_accuracy: 0.9259\n",
            "Epoch 87/250\n",
            "216/216 [==============================] - 0s 1ms/step - loss: 0.1833 - accuracy: 0.9442 - val_loss: 0.2089 - val_accuracy: 0.9444\n",
            "Epoch 88/250\n",
            "216/216 [==============================] - 0s 1ms/step - loss: 0.1751 - accuracy: 0.9575 - val_loss: 0.2076 - val_accuracy: 0.9444\n",
            "Epoch 89/250\n",
            "216/216 [==============================] - 0s 1ms/step - loss: 0.2345 - accuracy: 0.9315 - val_loss: 0.1997 - val_accuracy: 0.9444\n",
            "Epoch 90/250\n",
            "216/216 [==============================] - 0s 1ms/step - loss: 0.1805 - accuracy: 0.9292 - val_loss: 0.2086 - val_accuracy: 0.9444\n",
            "Epoch 91/250\n",
            "216/216 [==============================] - 0s 1ms/step - loss: 0.2132 - accuracy: 0.9430 - val_loss: 0.2058 - val_accuracy: 0.9444\n",
            "Epoch 92/250\n",
            "216/216 [==============================] - 0s 1ms/step - loss: 0.2054 - accuracy: 0.9444 - val_loss: 0.2028 - val_accuracy: 0.9444\n",
            "Epoch 93/250\n",
            "216/216 [==============================] - 0s 2ms/step - loss: 0.2037 - accuracy: 0.9367 - val_loss: 0.2031 - val_accuracy: 0.9259\n",
            "Epoch 94/250\n",
            "216/216 [==============================] - 0s 1ms/step - loss: 0.1554 - accuracy: 0.9628 - val_loss: 0.1964 - val_accuracy: 0.9630\n",
            "Epoch 95/250\n",
            "216/216 [==============================] - 0s 1ms/step - loss: 0.1479 - accuracy: 0.9577 - val_loss: 0.1979 - val_accuracy: 0.9444\n",
            "Epoch 96/250\n",
            "216/216 [==============================] - 0s 1ms/step - loss: 0.2130 - accuracy: 0.9409 - val_loss: 0.1953 - val_accuracy: 0.9444\n",
            "Epoch 97/250\n",
            "216/216 [==============================] - 0s 1ms/step - loss: 0.1597 - accuracy: 0.9517 - val_loss: 0.1892 - val_accuracy: 0.9444\n",
            "Epoch 98/250\n",
            "216/216 [==============================] - 0s 1ms/step - loss: 0.1621 - accuracy: 0.9433 - val_loss: 0.1997 - val_accuracy: 0.9630\n",
            "Epoch 99/250\n",
            "216/216 [==============================] - 0s 1ms/step - loss: 0.1813 - accuracy: 0.9421 - val_loss: 0.2020 - val_accuracy: 0.9259\n",
            "Epoch 100/250\n",
            "216/216 [==============================] - 0s 1ms/step - loss: 0.1540 - accuracy: 0.9451 - val_loss: 0.1976 - val_accuracy: 0.9259\n",
            "Epoch 101/250\n",
            "216/216 [==============================] - 0s 1ms/step - loss: 0.1611 - accuracy: 0.9561 - val_loss: 0.1930 - val_accuracy: 0.9815\n",
            "Epoch 102/250\n",
            "216/216 [==============================] - 0s 1ms/step - loss: 0.1684 - accuracy: 0.9520 - val_loss: 0.1901 - val_accuracy: 0.9630\n",
            "Epoch 103/250\n",
            "216/216 [==============================] - 0s 1ms/step - loss: 0.1630 - accuracy: 0.9487 - val_loss: 0.1853 - val_accuracy: 0.9630\n",
            "Epoch 104/250\n",
            "216/216 [==============================] - 0s 1ms/step - loss: 0.1667 - accuracy: 0.9467 - val_loss: 0.1869 - val_accuracy: 0.9630\n",
            "Epoch 105/250\n",
            "216/216 [==============================] - 0s 1ms/step - loss: 0.1643 - accuracy: 0.9473 - val_loss: 0.1968 - val_accuracy: 0.9259\n",
            "Epoch 106/250\n",
            "216/216 [==============================] - 0s 1ms/step - loss: 0.1577 - accuracy: 0.9609 - val_loss: 0.1840 - val_accuracy: 0.9630\n",
            "Epoch 107/250\n",
            "216/216 [==============================] - 0s 1ms/step - loss: 0.1435 - accuracy: 0.9614 - val_loss: 0.1953 - val_accuracy: 0.9444\n",
            "Epoch 108/250\n",
            "216/216 [==============================] - 0s 2ms/step - loss: 0.1745 - accuracy: 0.9401 - val_loss: 0.1852 - val_accuracy: 0.9444\n",
            "Epoch 109/250\n",
            "216/216 [==============================] - 0s 1ms/step - loss: 0.1736 - accuracy: 0.9355 - val_loss: 0.1720 - val_accuracy: 0.9630\n",
            "Epoch 110/250\n",
            "216/216 [==============================] - 0s 1ms/step - loss: 0.1481 - accuracy: 0.9524 - val_loss: 0.1880 - val_accuracy: 0.9444\n",
            "Epoch 111/250\n",
            "216/216 [==============================] - 0s 1ms/step - loss: 0.1356 - accuracy: 0.9608 - val_loss: 0.1884 - val_accuracy: 0.9444\n",
            "Epoch 112/250\n",
            "216/216 [==============================] - 0s 2ms/step - loss: 0.1224 - accuracy: 0.9708 - val_loss: 0.1832 - val_accuracy: 0.9815\n",
            "Epoch 113/250\n",
            "216/216 [==============================] - 0s 1ms/step - loss: 0.1712 - accuracy: 0.9435 - val_loss: 0.1808 - val_accuracy: 0.9630\n",
            "Epoch 114/250\n",
            "216/216 [==============================] - 0s 1ms/step - loss: 0.1567 - accuracy: 0.9438 - val_loss: 0.1928 - val_accuracy: 0.9630\n",
            "Epoch 115/250\n",
            "216/216 [==============================] - 0s 2ms/step - loss: 0.1314 - accuracy: 0.9597 - val_loss: 0.1939 - val_accuracy: 0.9444\n",
            "Epoch 116/250\n",
            "216/216 [==============================] - 0s 1ms/step - loss: 0.1756 - accuracy: 0.9413 - val_loss: 0.1692 - val_accuracy: 0.9630\n",
            "Epoch 117/250\n",
            "216/216 [==============================] - 0s 1ms/step - loss: 0.1639 - accuracy: 0.9324 - val_loss: 0.1812 - val_accuracy: 0.9630\n",
            "Epoch 118/250\n",
            "216/216 [==============================] - 0s 1ms/step - loss: 0.1713 - accuracy: 0.9265 - val_loss: 0.1859 - val_accuracy: 0.9630\n",
            "Epoch 119/250\n",
            "216/216 [==============================] - 0s 1ms/step - loss: 0.1580 - accuracy: 0.9469 - val_loss: 0.1711 - val_accuracy: 0.9815\n",
            "Epoch 120/250\n",
            "216/216 [==============================] - 0s 2ms/step - loss: 0.1297 - accuracy: 0.9641 - val_loss: 0.1803 - val_accuracy: 0.9630\n",
            "Epoch 121/250\n",
            "216/216 [==============================] - 0s 1ms/step - loss: 0.1452 - accuracy: 0.9425 - val_loss: 0.1595 - val_accuracy: 0.9815\n",
            "Epoch 122/250\n",
            "216/216 [==============================] - 0s 1ms/step - loss: 0.1552 - accuracy: 0.9448 - val_loss: 0.1858 - val_accuracy: 0.9630\n",
            "Epoch 123/250\n",
            "216/216 [==============================] - 0s 1ms/step - loss: 0.1308 - accuracy: 0.9575 - val_loss: 0.1670 - val_accuracy: 0.9815\n",
            "Epoch 124/250\n",
            "216/216 [==============================] - 0s 1ms/step - loss: 0.1384 - accuracy: 0.9564 - val_loss: 0.1568 - val_accuracy: 0.9815\n",
            "Epoch 125/250\n",
            "216/216 [==============================] - 0s 1ms/step - loss: 0.1382 - accuracy: 0.9545 - val_loss: 0.1690 - val_accuracy: 0.9815\n",
            "Epoch 126/250\n",
            "216/216 [==============================] - 0s 1ms/step - loss: 0.1274 - accuracy: 0.9588 - val_loss: 0.1644 - val_accuracy: 0.9815\n",
            "Epoch 127/250\n",
            "216/216 [==============================] - 0s 1ms/step - loss: 0.1567 - accuracy: 0.9329 - val_loss: 0.1625 - val_accuracy: 0.9815\n",
            "Epoch 128/250\n",
            "216/216 [==============================] - 0s 1ms/step - loss: 0.1329 - accuracy: 0.9499 - val_loss: 0.1765 - val_accuracy: 0.9630\n",
            "Epoch 129/250\n",
            "216/216 [==============================] - 0s 1ms/step - loss: 0.1195 - accuracy: 0.9601 - val_loss: 0.1755 - val_accuracy: 0.9630\n",
            "Epoch 130/250\n",
            "216/216 [==============================] - 0s 1ms/step - loss: 0.1337 - accuracy: 0.9527 - val_loss: 0.1644 - val_accuracy: 0.9815\n",
            "Epoch 131/250\n",
            "216/216 [==============================] - 0s 1ms/step - loss: 0.1229 - accuracy: 0.9639 - val_loss: 0.1668 - val_accuracy: 0.9815\n",
            "Epoch 132/250\n",
            "216/216 [==============================] - 0s 1ms/step - loss: 0.1386 - accuracy: 0.9524 - val_loss: 0.1613 - val_accuracy: 0.9815\n",
            "Epoch 133/250\n",
            "216/216 [==============================] - 0s 1ms/step - loss: 0.1344 - accuracy: 0.9481 - val_loss: 0.1525 - val_accuracy: 0.9815\n",
            "Epoch 134/250\n",
            "216/216 [==============================] - 0s 1ms/step - loss: 0.1418 - accuracy: 0.9638 - val_loss: 0.1586 - val_accuracy: 0.9815\n",
            "Epoch 135/250\n",
            "216/216 [==============================] - 0s 1ms/step - loss: 0.1511 - accuracy: 0.9421 - val_loss: 0.1566 - val_accuracy: 0.9815\n",
            "Epoch 136/250\n",
            "216/216 [==============================] - 0s 1ms/step - loss: 0.1308 - accuracy: 0.9464 - val_loss: 0.1588 - val_accuracy: 0.9815\n",
            "Epoch 137/250\n",
            "216/216 [==============================] - 0s 1ms/step - loss: 0.1237 - accuracy: 0.9606 - val_loss: 0.1539 - val_accuracy: 0.9815\n",
            "Epoch 138/250\n",
            "216/216 [==============================] - 0s 1ms/step - loss: 0.1278 - accuracy: 0.9534 - val_loss: 0.1507 - val_accuracy: 0.9815\n",
            "Epoch 139/250\n",
            "216/216 [==============================] - 0s 1ms/step - loss: 0.1248 - accuracy: 0.9535 - val_loss: 0.1762 - val_accuracy: 0.9630\n",
            "Epoch 140/250\n",
            "216/216 [==============================] - 0s 2ms/step - loss: 0.1325 - accuracy: 0.9534 - val_loss: 0.1654 - val_accuracy: 0.9630\n",
            "Epoch 141/250\n",
            "216/216 [==============================] - 0s 1ms/step - loss: 0.1246 - accuracy: 0.9559 - val_loss: 0.1522 - val_accuracy: 0.9815\n",
            "Epoch 142/250\n",
            "216/216 [==============================] - 0s 2ms/step - loss: 0.1418 - accuracy: 0.9432 - val_loss: 0.1509 - val_accuracy: 0.9815\n",
            "Epoch 143/250\n",
            "216/216 [==============================] - 0s 1ms/step - loss: 0.1472 - accuracy: 0.9440 - val_loss: 0.1540 - val_accuracy: 0.9815\n",
            "Epoch 144/250\n",
            "216/216 [==============================] - 0s 1ms/step - loss: 0.1193 - accuracy: 0.9616 - val_loss: 0.1563 - val_accuracy: 0.9630\n",
            "Epoch 145/250\n",
            "216/216 [==============================] - 0s 1ms/step - loss: 0.1331 - accuracy: 0.9410 - val_loss: 0.1539 - val_accuracy: 0.9815\n",
            "Epoch 146/250\n",
            "216/216 [==============================] - 0s 2ms/step - loss: 0.1234 - accuracy: 0.9531 - val_loss: 0.1672 - val_accuracy: 0.9630\n",
            "Epoch 147/250\n",
            "216/216 [==============================] - 0s 1ms/step - loss: 0.1202 - accuracy: 0.9585 - val_loss: 0.1640 - val_accuracy: 0.9630\n",
            "Epoch 148/250\n",
            "216/216 [==============================] - 0s 1ms/step - loss: 0.1401 - accuracy: 0.9479 - val_loss: 0.1431 - val_accuracy: 0.9815\n",
            "Epoch 149/250\n",
            "216/216 [==============================] - 0s 1ms/step - loss: 0.1307 - accuracy: 0.9503 - val_loss: 0.1432 - val_accuracy: 0.9815\n",
            "Epoch 150/250\n",
            "216/216 [==============================] - 0s 1ms/step - loss: 0.1260 - accuracy: 0.9535 - val_loss: 0.1500 - val_accuracy: 0.9815\n",
            "Epoch 151/250\n",
            "216/216 [==============================] - 0s 1ms/step - loss: 0.1010 - accuracy: 0.9582 - val_loss: 0.1463 - val_accuracy: 0.9815\n",
            "Epoch 152/250\n",
            "216/216 [==============================] - 0s 1ms/step - loss: 0.0968 - accuracy: 0.9623 - val_loss: 0.1492 - val_accuracy: 0.9630\n",
            "Epoch 153/250\n",
            "216/216 [==============================] - 0s 1ms/step - loss: 0.1251 - accuracy: 0.9605 - val_loss: 0.1573 - val_accuracy: 0.9630\n",
            "Epoch 154/250\n",
            "216/216 [==============================] - 0s 1ms/step - loss: 0.1186 - accuracy: 0.9622 - val_loss: 0.1483 - val_accuracy: 0.9815\n",
            "Epoch 155/250\n",
            "216/216 [==============================] - 0s 1ms/step - loss: 0.1331 - accuracy: 0.9392 - val_loss: 0.1390 - val_accuracy: 0.9815\n",
            "Epoch 156/250\n",
            "216/216 [==============================] - 0s 1ms/step - loss: 0.1332 - accuracy: 0.9429 - val_loss: 0.1412 - val_accuracy: 0.9815\n",
            "Epoch 157/250\n",
            "216/216 [==============================] - 0s 1ms/step - loss: 0.1249 - accuracy: 0.9611 - val_loss: 0.1491 - val_accuracy: 0.9815\n",
            "Epoch 158/250\n",
            "216/216 [==============================] - 0s 1ms/step - loss: 0.0976 - accuracy: 0.9654 - val_loss: 0.1391 - val_accuracy: 0.9815\n",
            "Epoch 159/250\n",
            "216/216 [==============================] - 0s 1ms/step - loss: 0.1022 - accuracy: 0.9642 - val_loss: 0.1524 - val_accuracy: 0.9815\n",
            "Epoch 160/250\n",
            "216/216 [==============================] - 0s 1ms/step - loss: 0.0975 - accuracy: 0.9681 - val_loss: 0.1564 - val_accuracy: 0.9630\n",
            "Epoch 161/250\n",
            "216/216 [==============================] - 0s 1ms/step - loss: 0.1242 - accuracy: 0.9528 - val_loss: 0.1403 - val_accuracy: 0.9815\n",
            "Epoch 162/250\n",
            "216/216 [==============================] - 0s 1ms/step - loss: 0.1199 - accuracy: 0.9438 - val_loss: 0.1376 - val_accuracy: 0.9815\n",
            "Epoch 163/250\n",
            "216/216 [==============================] - 0s 1ms/step - loss: 0.1175 - accuracy: 0.9521 - val_loss: 0.1416 - val_accuracy: 0.9815\n",
            "Epoch 164/250\n",
            "216/216 [==============================] - 0s 1ms/step - loss: 0.1006 - accuracy: 0.9672 - val_loss: 0.1693 - val_accuracy: 0.9630\n",
            "Epoch 165/250\n",
            "216/216 [==============================] - 0s 1ms/step - loss: 0.1098 - accuracy: 0.9615 - val_loss: 0.1422 - val_accuracy: 0.9815\n",
            "Epoch 166/250\n",
            "216/216 [==============================] - 0s 1ms/step - loss: 0.1159 - accuracy: 0.9576 - val_loss: 0.1348 - val_accuracy: 0.9815\n",
            "Epoch 167/250\n",
            "216/216 [==============================] - 0s 1ms/step - loss: 0.1200 - accuracy: 0.9516 - val_loss: 0.1405 - val_accuracy: 0.9815\n",
            "Epoch 168/250\n",
            "216/216 [==============================] - 0s 1ms/step - loss: 0.1177 - accuracy: 0.9598 - val_loss: 0.1490 - val_accuracy: 0.9630\n",
            "Epoch 169/250\n",
            "216/216 [==============================] - 0s 1ms/step - loss: 0.0905 - accuracy: 0.9733 - val_loss: 0.1434 - val_accuracy: 0.9630\n",
            "Epoch 170/250\n",
            "216/216 [==============================] - 0s 1ms/step - loss: 0.1210 - accuracy: 0.9552 - val_loss: 0.1504 - val_accuracy: 0.9630\n",
            "Epoch 171/250\n",
            "216/216 [==============================] - 0s 1ms/step - loss: 0.0918 - accuracy: 0.9711 - val_loss: 0.1390 - val_accuracy: 0.9815\n",
            "Epoch 172/250\n",
            "216/216 [==============================] - 0s 1ms/step - loss: 0.1051 - accuracy: 0.9610 - val_loss: 0.1409 - val_accuracy: 0.9630\n",
            "Epoch 173/250\n",
            "216/216 [==============================] - 0s 1ms/step - loss: 0.1008 - accuracy: 0.9663 - val_loss: 0.1417 - val_accuracy: 0.9815\n",
            "Epoch 174/250\n",
            "216/216 [==============================] - 0s 1ms/step - loss: 0.1263 - accuracy: 0.9538 - val_loss: 0.1364 - val_accuracy: 0.9815\n",
            "Epoch 175/250\n",
            "216/216 [==============================] - 0s 1ms/step - loss: 0.1063 - accuracy: 0.9677 - val_loss: 0.1565 - val_accuracy: 0.9630\n",
            "Epoch 176/250\n",
            "216/216 [==============================] - 0s 1ms/step - loss: 0.1212 - accuracy: 0.9555 - val_loss: 0.1280 - val_accuracy: 0.9815\n",
            "Epoch 177/250\n",
            "216/216 [==============================] - 0s 1ms/step - loss: 0.1131 - accuracy: 0.9547 - val_loss: 0.1366 - val_accuracy: 0.9815\n",
            "Epoch 178/250\n",
            "216/216 [==============================] - 0s 1ms/step - loss: 0.0884 - accuracy: 0.9741 - val_loss: 0.1540 - val_accuracy: 0.9630\n",
            "Epoch 179/250\n",
            "216/216 [==============================] - 0s 2ms/step - loss: 0.1114 - accuracy: 0.9599 - val_loss: 0.1361 - val_accuracy: 0.9815\n",
            "Epoch 180/250\n",
            "216/216 [==============================] - 0s 1ms/step - loss: 0.0801 - accuracy: 0.9797 - val_loss: 0.1395 - val_accuracy: 0.9630\n",
            "Epoch 181/250\n",
            "216/216 [==============================] - 0s 1ms/step - loss: 0.1079 - accuracy: 0.9629 - val_loss: 0.1364 - val_accuracy: 0.9815\n",
            "Epoch 182/250\n",
            "216/216 [==============================] - 0s 1ms/step - loss: 0.0955 - accuracy: 0.9723 - val_loss: 0.1435 - val_accuracy: 0.9630\n",
            "Epoch 183/250\n",
            "216/216 [==============================] - 0s 1ms/step - loss: 0.1220 - accuracy: 0.9620 - val_loss: 0.1305 - val_accuracy: 0.9815\n",
            "Epoch 184/250\n",
            "216/216 [==============================] - 0s 2ms/step - loss: 0.1103 - accuracy: 0.9605 - val_loss: 0.1407 - val_accuracy: 0.9630\n",
            "Epoch 185/250\n",
            "216/216 [==============================] - 0s 1ms/step - loss: 0.1057 - accuracy: 0.9599 - val_loss: 0.1283 - val_accuracy: 0.9815\n",
            "Epoch 186/250\n",
            "216/216 [==============================] - 0s 1ms/step - loss: 0.1003 - accuracy: 0.9639 - val_loss: 0.1329 - val_accuracy: 0.9815\n",
            "Epoch 187/250\n",
            "216/216 [==============================] - 0s 1ms/step - loss: 0.1224 - accuracy: 0.9571 - val_loss: 0.1310 - val_accuracy: 0.9815\n",
            "Epoch 188/250\n",
            "216/216 [==============================] - 0s 1ms/step - loss: 0.1329 - accuracy: 0.9597 - val_loss: 0.1373 - val_accuracy: 0.9815\n",
            "Epoch 189/250\n",
            "216/216 [==============================] - 0s 1ms/step - loss: 0.1019 - accuracy: 0.9543 - val_loss: 0.1281 - val_accuracy: 0.9815\n",
            "Epoch 190/250\n",
            "216/216 [==============================] - 0s 1ms/step - loss: 0.1057 - accuracy: 0.9663 - val_loss: 0.1421 - val_accuracy: 0.9630\n",
            "Epoch 191/250\n",
            "216/216 [==============================] - 0s 1ms/step - loss: 0.1354 - accuracy: 0.9551 - val_loss: 0.1362 - val_accuracy: 0.9630\n",
            "Epoch 192/250\n",
            "216/216 [==============================] - 0s 1ms/step - loss: 0.0932 - accuracy: 0.9642 - val_loss: 0.1280 - val_accuracy: 0.9815\n",
            "Epoch 193/250\n",
            "216/216 [==============================] - 0s 1ms/step - loss: 0.1179 - accuracy: 0.9526 - val_loss: 0.1280 - val_accuracy: 0.9815\n",
            "Epoch 194/250\n",
            "216/216 [==============================] - 0s 1ms/step - loss: 0.1043 - accuracy: 0.9590 - val_loss: 0.1481 - val_accuracy: 0.9630\n",
            "Epoch 195/250\n",
            "216/216 [==============================] - 0s 1ms/step - loss: 0.1263 - accuracy: 0.9632 - val_loss: 0.1303 - val_accuracy: 0.9815\n",
            "Epoch 196/250\n",
            "216/216 [==============================] - 0s 2ms/step - loss: 0.1317 - accuracy: 0.9501 - val_loss: 0.1421 - val_accuracy: 0.9630\n",
            "Epoch 197/250\n",
            "216/216 [==============================] - 0s 1ms/step - loss: 0.1150 - accuracy: 0.9590 - val_loss: 0.1287 - val_accuracy: 0.9815\n",
            "Epoch 198/250\n",
            "216/216 [==============================] - 0s 1ms/step - loss: 0.0831 - accuracy: 0.9730 - val_loss: 0.1382 - val_accuracy: 0.9630\n",
            "Epoch 199/250\n",
            "216/216 [==============================] - 0s 1ms/step - loss: 0.1238 - accuracy: 0.9610 - val_loss: 0.1326 - val_accuracy: 0.9815\n",
            "Epoch 200/250\n",
            "216/216 [==============================] - 0s 1ms/step - loss: 0.0916 - accuracy: 0.9714 - val_loss: 0.1294 - val_accuracy: 0.9815\n",
            "Epoch 201/250\n",
            "216/216 [==============================] - 0s 1ms/step - loss: 0.1152 - accuracy: 0.9532 - val_loss: 0.1393 - val_accuracy: 0.9630\n",
            "Epoch 202/250\n",
            "216/216 [==============================] - 0s 1ms/step - loss: 0.0772 - accuracy: 0.9757 - val_loss: 0.1386 - val_accuracy: 0.9630\n",
            "Epoch 203/250\n",
            "216/216 [==============================] - 0s 1ms/step - loss: 0.1128 - accuracy: 0.9623 - val_loss: 0.1261 - val_accuracy: 0.9815\n",
            "Epoch 204/250\n",
            "216/216 [==============================] - 0s 1ms/step - loss: 0.1228 - accuracy: 0.9486 - val_loss: 0.1193 - val_accuracy: 0.9815\n",
            "Epoch 205/250\n",
            "216/216 [==============================] - 0s 1ms/step - loss: 0.1146 - accuracy: 0.9625 - val_loss: 0.1305 - val_accuracy: 0.9630\n",
            "Epoch 206/250\n",
            "216/216 [==============================] - 0s 2ms/step - loss: 0.0928 - accuracy: 0.9730 - val_loss: 0.1362 - val_accuracy: 0.9630\n",
            "Epoch 207/250\n",
            "216/216 [==============================] - 0s 1ms/step - loss: 0.0917 - accuracy: 0.9685 - val_loss: 0.1368 - val_accuracy: 0.9630\n",
            "Epoch 208/250\n",
            "216/216 [==============================] - 0s 1ms/step - loss: 0.1142 - accuracy: 0.9621 - val_loss: 0.1157 - val_accuracy: 0.9815\n",
            "Epoch 209/250\n",
            "216/216 [==============================] - 0s 1ms/step - loss: 0.0895 - accuracy: 0.9726 - val_loss: 0.1359 - val_accuracy: 0.9630\n",
            "Epoch 210/250\n",
            "216/216 [==============================] - 0s 1ms/step - loss: 0.0860 - accuracy: 0.9639 - val_loss: 0.1293 - val_accuracy: 0.9630\n",
            "Epoch 211/250\n",
            "216/216 [==============================] - 0s 1ms/step - loss: 0.1075 - accuracy: 0.9620 - val_loss: 0.1301 - val_accuracy: 0.9815\n",
            "Epoch 212/250\n",
            "216/216 [==============================] - 0s 1ms/step - loss: 0.0879 - accuracy: 0.9683 - val_loss: 0.1245 - val_accuracy: 0.9815\n",
            "Epoch 213/250\n",
            "216/216 [==============================] - 0s 1ms/step - loss: 0.0964 - accuracy: 0.9686 - val_loss: 0.1185 - val_accuracy: 0.9815\n",
            "Epoch 214/250\n",
            "216/216 [==============================] - 0s 1ms/step - loss: 0.0963 - accuracy: 0.9636 - val_loss: 0.1311 - val_accuracy: 0.9630\n",
            "Epoch 215/250\n",
            "216/216 [==============================] - 0s 2ms/step - loss: 0.1266 - accuracy: 0.9464 - val_loss: 0.1146 - val_accuracy: 0.9815\n",
            "Epoch 216/250\n",
            "216/216 [==============================] - 0s 2ms/step - loss: 0.0915 - accuracy: 0.9764 - val_loss: 0.1205 - val_accuracy: 0.9630\n",
            "Epoch 217/250\n",
            "216/216 [==============================] - 0s 1ms/step - loss: 0.0908 - accuracy: 0.9733 - val_loss: 0.1239 - val_accuracy: 0.9815\n",
            "Epoch 218/250\n",
            "216/216 [==============================] - 0s 1ms/step - loss: 0.0987 - accuracy: 0.9692 - val_loss: 0.1330 - val_accuracy: 0.9630\n",
            "Epoch 219/250\n",
            "216/216 [==============================] - 0s 1ms/step - loss: 0.0883 - accuracy: 0.9754 - val_loss: 0.1274 - val_accuracy: 0.9815\n",
            "Epoch 220/250\n",
            "216/216 [==============================] - 0s 1ms/step - loss: 0.0922 - accuracy: 0.9736 - val_loss: 0.1274 - val_accuracy: 0.9815\n",
            "Epoch 221/250\n",
            "216/216 [==============================] - 0s 2ms/step - loss: 0.0855 - accuracy: 0.9830 - val_loss: 0.1206 - val_accuracy: 0.9815\n",
            "Epoch 222/250\n",
            "216/216 [==============================] - 0s 1ms/step - loss: 0.0765 - accuracy: 0.9827 - val_loss: 0.1166 - val_accuracy: 0.9815\n",
            "Epoch 223/250\n",
            "216/216 [==============================] - 0s 1ms/step - loss: 0.1109 - accuracy: 0.9714 - val_loss: 0.1236 - val_accuracy: 0.9815\n",
            "Epoch 224/250\n",
            "216/216 [==============================] - 0s 1ms/step - loss: 0.0726 - accuracy: 0.9732 - val_loss: 0.1164 - val_accuracy: 0.9815\n",
            "Epoch 225/250\n",
            "216/216 [==============================] - 0s 2ms/step - loss: 0.0965 - accuracy: 0.9734 - val_loss: 0.1179 - val_accuracy: 0.9815\n",
            "Epoch 226/250\n",
            "216/216 [==============================] - 0s 1ms/step - loss: 0.0723 - accuracy: 0.9779 - val_loss: 0.1131 - val_accuracy: 0.9815\n",
            "Epoch 227/250\n",
            "216/216 [==============================] - 0s 1ms/step - loss: 0.0948 - accuracy: 0.9687 - val_loss: 0.1131 - val_accuracy: 0.9815\n",
            "Epoch 228/250\n",
            "216/216 [==============================] - 0s 1ms/step - loss: 0.0852 - accuracy: 0.9744 - val_loss: 0.1242 - val_accuracy: 0.9630\n",
            "Epoch 229/250\n",
            "216/216 [==============================] - 0s 1ms/step - loss: 0.1011 - accuracy: 0.9632 - val_loss: 0.1339 - val_accuracy: 0.9630\n",
            "Epoch 230/250\n",
            "216/216 [==============================] - 0s 1ms/step - loss: 0.1014 - accuracy: 0.9673 - val_loss: 0.1419 - val_accuracy: 0.9444\n",
            "Epoch 231/250\n",
            "216/216 [==============================] - 0s 2ms/step - loss: 0.0923 - accuracy: 0.9821 - val_loss: 0.1409 - val_accuracy: 0.9630\n",
            "Epoch 232/250\n",
            "216/216 [==============================] - 0s 2ms/step - loss: 0.0901 - accuracy: 0.9697 - val_loss: 0.1166 - val_accuracy: 0.9815\n",
            "Epoch 233/250\n",
            "216/216 [==============================] - 0s 2ms/step - loss: 0.1046 - accuracy: 0.9619 - val_loss: 0.1124 - val_accuracy: 0.9815\n",
            "Epoch 234/250\n",
            "216/216 [==============================] - 0s 2ms/step - loss: 0.0861 - accuracy: 0.9691 - val_loss: 0.1374 - val_accuracy: 0.9444\n",
            "Epoch 235/250\n",
            "216/216 [==============================] - 0s 1ms/step - loss: 0.1005 - accuracy: 0.9616 - val_loss: 0.1132 - val_accuracy: 0.9815\n",
            "Epoch 236/250\n",
            "216/216 [==============================] - 0s 1ms/step - loss: 0.0978 - accuracy: 0.9726 - val_loss: 0.1108 - val_accuracy: 0.9815\n",
            "Epoch 237/250\n",
            "216/216 [==============================] - 0s 1ms/step - loss: 0.0946 - accuracy: 0.9705 - val_loss: 0.1127 - val_accuracy: 0.9815\n",
            "Epoch 238/250\n",
            "216/216 [==============================] - 0s 1ms/step - loss: 0.0959 - accuracy: 0.9600 - val_loss: 0.1118 - val_accuracy: 0.9815\n",
            "Epoch 239/250\n",
            "216/216 [==============================] - 0s 2ms/step - loss: 0.0934 - accuracy: 0.9734 - val_loss: 0.1164 - val_accuracy: 0.9815\n",
            "Epoch 240/250\n",
            "216/216 [==============================] - 0s 1ms/step - loss: 0.0873 - accuracy: 0.9773 - val_loss: 0.1350 - val_accuracy: 0.9444\n",
            "Epoch 241/250\n",
            "216/216 [==============================] - 0s 1ms/step - loss: 0.0791 - accuracy: 0.9802 - val_loss: 0.1152 - val_accuracy: 0.9815\n",
            "Epoch 242/250\n",
            "216/216 [==============================] - 0s 1ms/step - loss: 0.0808 - accuracy: 0.9831 - val_loss: 0.1274 - val_accuracy: 0.9444\n",
            "Epoch 243/250\n",
            "216/216 [==============================] - 0s 2ms/step - loss: 0.0907 - accuracy: 0.9731 - val_loss: 0.1118 - val_accuracy: 0.9444\n",
            "Epoch 244/250\n",
            "216/216 [==============================] - 0s 1ms/step - loss: 0.0662 - accuracy: 0.9794 - val_loss: 0.1223 - val_accuracy: 0.9815\n",
            "Epoch 245/250\n",
            "216/216 [==============================] - 0s 1ms/step - loss: 0.0814 - accuracy: 0.9821 - val_loss: 0.1290 - val_accuracy: 0.9630\n",
            "Epoch 246/250\n",
            "216/216 [==============================] - 0s 1ms/step - loss: 0.0774 - accuracy: 0.9817 - val_loss: 0.1055 - val_accuracy: 0.9815\n",
            "Epoch 247/250\n",
            "216/216 [==============================] - 0s 1ms/step - loss: 0.0911 - accuracy: 0.9704 - val_loss: 0.1136 - val_accuracy: 0.9630\n",
            "Epoch 248/250\n",
            "216/216 [==============================] - 0s 1ms/step - loss: 0.0768 - accuracy: 0.9742 - val_loss: 0.1183 - val_accuracy: 0.9630\n",
            "Epoch 249/250\n",
            "216/216 [==============================] - 0s 1ms/step - loss: 0.0837 - accuracy: 0.9610 - val_loss: 0.1319 - val_accuracy: 0.9444\n",
            "Epoch 250/250\n",
            "216/216 [==============================] - 0s 2ms/step - loss: 0.0886 - accuracy: 0.9763 - val_loss: 0.1154 - val_accuracy: 0.9630\n"
          ],
          "name": "stdout"
        }
      ]
    },
    {
      "cell_type": "code",
      "metadata": {
        "id": "7acijSZ6JAta",
        "colab": {
          "base_uri": "https://localhost:8080/",
          "height": 220
        },
        "outputId": "ce741d04-bbd9-4db9-a193-75b3e8bb12d2"
      },
      "source": [
        "print('Summary of the results after each epoch: ')\n",
        "hist = pd.DataFrame(history.history)\n",
        "hist['epoch'] = history.epoch\n",
        "hist.tail()"
      ],
      "execution_count": null,
      "outputs": [
        {
          "output_type": "stream",
          "text": [
            "Summary of the results after each epoch: \n"
          ],
          "name": "stdout"
        },
        {
          "output_type": "execute_result",
          "data": {
            "text/html": [
              "<div>\n",
              "<style scoped>\n",
              "    .dataframe tbody tr th:only-of-type {\n",
              "        vertical-align: middle;\n",
              "    }\n",
              "\n",
              "    .dataframe tbody tr th {\n",
              "        vertical-align: top;\n",
              "    }\n",
              "\n",
              "    .dataframe thead th {\n",
              "        text-align: right;\n",
              "    }\n",
              "</style>\n",
              "<table border=\"1\" class=\"dataframe\">\n",
              "  <thead>\n",
              "    <tr style=\"text-align: right;\">\n",
              "      <th></th>\n",
              "      <th>loss</th>\n",
              "      <th>accuracy</th>\n",
              "      <th>val_loss</th>\n",
              "      <th>val_accuracy</th>\n",
              "      <th>epoch</th>\n",
              "    </tr>\n",
              "  </thead>\n",
              "  <tbody>\n",
              "    <tr>\n",
              "      <th>245</th>\n",
              "      <td>0.085773</td>\n",
              "      <td>0.974537</td>\n",
              "      <td>0.105482</td>\n",
              "      <td>0.981481</td>\n",
              "      <td>245</td>\n",
              "    </tr>\n",
              "    <tr>\n",
              "      <th>246</th>\n",
              "      <td>0.088604</td>\n",
              "      <td>0.967593</td>\n",
              "      <td>0.113555</td>\n",
              "      <td>0.962963</td>\n",
              "      <td>246</td>\n",
              "    </tr>\n",
              "    <tr>\n",
              "      <th>247</th>\n",
              "      <td>0.087339</td>\n",
              "      <td>0.967593</td>\n",
              "      <td>0.118337</td>\n",
              "      <td>0.962963</td>\n",
              "      <td>247</td>\n",
              "    </tr>\n",
              "    <tr>\n",
              "      <th>248</th>\n",
              "      <td>0.087456</td>\n",
              "      <td>0.969907</td>\n",
              "      <td>0.131949</td>\n",
              "      <td>0.944444</td>\n",
              "      <td>248</td>\n",
              "    </tr>\n",
              "    <tr>\n",
              "      <th>249</th>\n",
              "      <td>0.087465</td>\n",
              "      <td>0.976852</td>\n",
              "      <td>0.115403</td>\n",
              "      <td>0.962963</td>\n",
              "      <td>249</td>\n",
              "    </tr>\n",
              "  </tbody>\n",
              "</table>\n",
              "</div>"
            ],
            "text/plain": [
              "         loss  accuracy  val_loss  val_accuracy  epoch\n",
              "245  0.085773  0.974537  0.105482      0.981481    245\n",
              "246  0.088604  0.967593  0.113555      0.962963    246\n",
              "247  0.087339  0.967593  0.118337      0.962963    247\n",
              "248  0.087456  0.969907  0.131949      0.944444    248\n",
              "249  0.087465  0.976852  0.115403      0.962963    249"
            ]
          },
          "metadata": {
            "tags": []
          },
          "execution_count": 19
        }
      ]
    },
    {
      "cell_type": "code",
      "metadata": {
        "id": "5McS9-65I9qN",
        "colab": {
          "base_uri": "https://localhost:8080/"
        },
        "outputId": "16d3ac3f-325f-4f49-e9c2-2add16d8e97b"
      },
      "source": [
        "example_batch = normed_test_data[:10]\n",
        "example_result = model.predict(example_batch)\n",
        "print('predicted values: ')\n",
        "example_result"
      ],
      "execution_count": null,
      "outputs": [
        {
          "output_type": "stream",
          "text": [
            "predicted values: \n"
          ],
          "name": "stdout"
        },
        {
          "output_type": "execute_result",
          "data": {
            "text/plain": [
              "array([[3.4016068e-15, 2.1405262e-16, 1.7656804e-07, 3.1148722e-14,\n",
              "        2.1089401e-09, 6.8423169e-09, 6.3033384e-10, 9.3658127e-02,\n",
              "        2.6893793e-11, 3.8302303e-04, 9.0595865e-01, 9.9169028e-29],\n",
              "       [2.3552584e-08, 2.1149192e-16, 1.5150085e-09, 4.6080395e-08,\n",
              "        5.3162457e-09, 1.4359660e-13, 1.7005784e-03, 2.8421886e-05,\n",
              "        5.1331859e-11, 7.2710353e-09, 9.9827087e-01, 1.8599996e-15],\n",
              "       [1.1286623e-18, 3.3973721e-21, 5.6745128e-19, 4.8104316e-01,\n",
              "        1.4841239e-08, 5.1982433e-12, 1.5954897e-14, 4.9082307e-23,\n",
              "        8.3581281e-06, 1.0925921e-14, 5.7127834e-11, 5.1894850e-01],\n",
              "       [9.7870757e-30, 1.1590139e-18, 3.4361142e-13, 2.5108533e-05,\n",
              "        2.0928179e-04, 6.3062226e-04, 3.2737114e-22, 3.9808119e-20,\n",
              "        9.9866140e-01, 4.7363000e-04, 1.2001862e-09, 2.7703653e-12],\n",
              "       [2.0961212e-01, 8.7854339e-08, 1.5453933e-06, 1.5132562e-24,\n",
              "        1.0942696e-16, 3.2436801e-29, 1.4407021e-01, 6.4512146e-01,\n",
              "        1.9939808e-28, 4.7531359e-20, 1.1945923e-03, 4.2123052e-32],\n",
              "       [1.9650295e-06, 1.2877896e-16, 4.2853535e-13, 9.0605448e-20,\n",
              "        1.6828506e-18, 3.8073034e-35, 9.9999797e-01, 2.3689150e-12,\n",
              "        1.3534001e-26, 1.2841653e-22, 6.2427006e-08, 9.0040419e-19],\n",
              "       [3.9339746e-05, 9.9985886e-01, 7.6919394e-05, 5.7603223e-12,\n",
              "        9.1297875e-07, 1.5844752e-18, 2.9335931e-06, 2.3382318e-09,\n",
              "        1.2715763e-15, 2.5895602e-16, 2.0966594e-05, 8.9392293e-14],\n",
              "       [2.5582264e-12, 2.3039692e-04, 6.3241921e-02, 5.6605058e-06,\n",
              "        5.3176934e-01, 4.2628748e-12, 4.9886643e-05, 8.9534102e-11,\n",
              "        2.8037695e-05, 1.7525349e-04, 4.0449902e-01, 5.1195036e-07],\n",
              "       [1.5959811e-21, 8.2799337e-11, 2.0172577e-07, 1.5086168e-03,\n",
              "        2.0210668e-01, 4.4482344e-06, 7.1561274e-14, 9.9409329e-17,\n",
              "        7.9371029e-01, 2.6503904e-03, 1.6446269e-05, 2.8276154e-06],\n",
              "       [8.3361327e-18, 1.4827268e-21, 3.2685819e-22, 3.1414364e-02,\n",
              "        3.4385883e-11, 5.6861237e-15, 1.9253359e-16, 5.2616449e-26,\n",
              "        3.2212568e-09, 1.9672719e-20, 1.9294848e-14, 9.6858561e-01]],\n",
              "      dtype=float32)"
            ]
          },
          "metadata": {
            "tags": []
          },
          "execution_count": 20
        }
      ]
    },
    {
      "cell_type": "markdown",
      "metadata": {
        "id": "kg12I0u8Ato9"
      },
      "source": [
        "## See how the training went"
      ]
    },
    {
      "cell_type": "code",
      "metadata": {
        "id": "K4uxvv7ZAabl"
      },
      "source": [
        "from matplotlib import pyplot as plt"
      ],
      "execution_count": null,
      "outputs": []
    },
    {
      "cell_type": "code",
      "metadata": {
        "colab": {
          "base_uri": "https://localhost:8080/",
          "height": 295
        },
        "id": "CGkR2STGAzuJ",
        "outputId": "0502abdf-91b7-468b-89d2-ff5565260e89"
      },
      "source": [
        "plt.plot(history.history['accuracy'])\n",
        "plt.plot(history.history['val_accuracy'])\n",
        "plt.title('model_accuracy')\n",
        "plt.ylabel('accuracy')\n",
        "plt.xlabel('epoch')\n",
        "plt.legend(['Train', 'Cross-Validation'], loc='upper left')\n",
        "plt.show()"
      ],
      "execution_count": null,
      "outputs": [
        {
          "output_type": "display_data",
          "data": {
            "image/png": "[encoded data removed]",
            "text/plain": [
              "<Figure size 432x288 with 1 Axes>"
            ]
          },
          "metadata": {
            "tags": [],
            "needs_background": "light"
          }
        }
      ]
    },
    {
      "cell_type": "code",
      "metadata": {
        "colab": {
          "base_uri": "https://localhost:8080/",
          "height": 295
        },
        "id": "pgX6aC8FA_3d",
        "outputId": "6ef0359c-6a6d-448c-8495-e086224e505b"
      },
      "source": [
        "plt.plot(history.history['loss'])\n",
        "plt.plot(history.history['val_loss'])\n",
        "plt.title('Model Loss')\n",
        "plt.ylabel('Loss')\n",
        "plt.xlabel('epoch')\n",
        "plt.legend(['Train', 'Cross-Validation'], loc='upper left')\n",
        "plt.show()"
      ],
      "execution_count": null,
      "outputs": [
        {
          "output_type": "display_data",
          "data": {
            "image/png": "[encoded data removed]",
            "text/plain": [
              "<Figure size 432x288 with 1 Axes>"
            ]
          },
          "metadata": {
            "tags": [],
            "needs_background": "light"
          }
        }
      ]
    },
    {
      "cell_type": "code",
      "metadata": {
        "colab": {
          "base_uri": "https://localhost:8080/"
        },
        "id": "z62lkQ6iBkMo",
        "outputId": "82485aac-f9c0-4700-d877-4d0964aca91e"
      },
      "source": [
        "print('Train Split: ')\n",
        "loss, accuracy = model.evaluate(normed_train_data, train_labels, verbose=1)\n",
        "print('Accuracy: {:5.2f}'.format(accuracy))"
      ],
      "execution_count": null,
      "outputs": [
        {
          "output_type": "stream",
          "text": [
            "Train Split: \n",
            "14/14 [==============================] - 0s 2ms/step - loss: 0.0814 - accuracy: 0.9745\n",
            "Accuracy:  0.97\n"
          ],
          "name": "stdout"
        }
      ]
    },
    {
      "cell_type": "code",
      "metadata": {
        "colab": {
          "base_uri": "https://localhost:8080/"
        },
        "id": "Pq3yw7qKC3ND",
        "outputId": "dfbdc033-319a-4893-f620-b011b4ec91f0"
      },
      "source": [
        "print('Evaluation Split: ')\n",
        "loss, accuracy = model.evaluate(normed_valid_dataset, valid_labels, verbose=2)\n",
        "print(\"Accuracy: {:5.2f}\".format(accuracy))"
      ],
      "execution_count": null,
      "outputs": [
        {
          "output_type": "stream",
          "text": [
            "Evaluation Split: \n",
            "2/2 - 0s - loss: 0.1154 - accuracy: 0.9630\n",
            "Accuracy:  0.96\n"
          ],
          "name": "stdout"
        }
      ]
    },
    {
      "cell_type": "code",
      "metadata": {
        "colab": {
          "base_uri": "https://localhost:8080/"
        },
        "id": "CO7Vp9jUDLYV",
        "outputId": "3095d376-f212-4618-b9f6-e351fccd2b21"
      },
      "source": [
        "print('Test Split: ')\n",
        "loss, accuracy = model.evaluate(normed_test_data, test_labels, verbose=2)\n",
        "print(\"Accuracy: {:5.2f}\".format(accuracy))"
      ],
      "execution_count": null,
      "outputs": [
        {
          "output_type": "stream",
          "text": [
            "Test Split: \n",
            "2/2 - 0s - loss: 0.8419 - accuracy: 0.9259\n",
            "Accuracy:  0.93\n"
          ],
          "name": "stdout"
        }
      ]
    },
    {
      "cell_type": "code",
      "metadata": {
        "id": "qVmOgZrnGttV"
      },
      "source": [
        "from sklearn.metrics import confusion_matrix"
      ],
      "execution_count": null,
      "outputs": []
    },
    {
      "cell_type": "code",
      "metadata": {
        "colab": {
          "base_uri": "https://localhost:8080/",
          "height": 313
        },
        "id": "LHDadSBqG6K4",
        "outputId": "e6b245df-ad84-4157-c3ca-d8a8d9adbb5a"
      },
      "source": [
        "ax = plt.subplot()\n",
        "predict_results = model.predict(normed_test_data)\n",
        "\n",
        "predict_results = predict_results.argmax(axis = 1)\n",
        "\n",
        "cm = confusion_matrix(test_labels1, predict_results)\n",
        "\n",
        "sns.heatmap(cm, annot=True, ax = ax)\n",
        "\n",
        "ax.set_xlabel('Predicted labels')\n",
        "ax.set_ylabel('True labels')\n",
        "ax.set_title('Confusion Matrix')"
      ],
      "execution_count": null,
      "outputs": [
        {
          "output_type": "execute_result",
          "data": {
            "text/plain": [
              "Text(0.5, 1.0, 'Confusion Matrix')"
            ]
          },
          "metadata": {
            "tags": []
          },
          "execution_count": 28
        },
        {
          "output_type": "display_data",
          "data": {
            "image/png": "[encoded data removed]",
            "text/plain": [
              "<Figure size 432x288 with 2 Axes>"
            ]
          },
          "metadata": {
            "tags": [],
            "needs_background": "light"
          }
        }
      ]
    },
    {
      "cell_type": "code",
      "metadata": {
        "id": "v7lofCTO82Bs"
      },
      "source": [
        "def getMaxValueAndPosition(arr) :\n",
        "  max = arr[0]\n",
        "  pos = 0\n",
        "  for i in range(0, len(arr)):    \n",
        "  #Compare elements of array with max    \n",
        "    if(arr[i] > max):\n",
        "      max = arr[i]\n",
        "      pos = i        \n",
        "  \n",
        "  print(\"Largest element present in given array: \", str(max), \" at position: \", str(pos));"
      ],
      "execution_count": null,
      "outputs": []
    },
    {
      "cell_type": "code",
      "metadata": {
        "id": "lQta6HonHcSU",
        "colab": {
          "base_uri": "https://localhost:8080/"
        },
        "outputId": "05abd639-e4f2-4f5d-f595-9fbe8f4a68b8"
      },
      "source": [
        "positionPredict = 17\n",
        "predict = model.predict(normed_test_data)\n",
        "predict = predict[positionPredict]\n",
        "print(\"Predict value: \",predict)\n",
        "getMaxValueAndPosition(predict)\n",
        "result = test_labels1.iat[positionPredict]\n",
        "print(\"Real value: \", result)"
      ],
      "execution_count": null,
      "outputs": [
        {
          "output_type": "stream",
          "text": [
            "Predict value:  [1.1088368e-04 6.9007058e-15 3.3130609e-11 7.2840666e-15 3.7783568e-14\n",
            " 1.6191257e-30 9.9970835e-01 1.0449959e-10 4.8559026e-22 2.1357853e-20\n",
            " 1.8084398e-04 2.9833358e-16]\n",
            "Largest element present in given array:  0.99970835  at position:  6\n",
            "Real value:  6\n"
          ],
          "name": "stdout"
        }
      ]
    },
    {
      "cell_type": "markdown",
      "metadata": {
        "id": "w3FvEjZBxtdS"
      },
      "source": [
        "## Save Model"
      ]
    },
    {
      "cell_type": "code",
      "metadata": {
        "id": "qkjyrSy_w6x8"
      },
      "source": [
        "keras_file = \"ypc_m4.h5\"\n",
        "tf.keras.models.save_model(model, keras_file)"
      ],
      "execution_count": null,
      "outputs": []
    },
    {
      "cell_type": "code",
      "metadata": {
        "id": "UeMvjFzpxv2S",
        "colab": {
          "base_uri": "https://localhost:8080/"
        },
        "outputId": "c8c69628-fa65-445c-f93a-13debc24e100"
      },
      "source": [
        "converter = tf.lite.TFLiteConverter.from_keras_model(model)\n",
        "tfmodel = converter.convert()\n",
        "open(\"ypc_m4.tflite\", \"wb\").write(tfmodel)"
      ],
      "execution_count": null,
      "outputs": [
        {
          "output_type": "stream",
          "text": [
            "INFO:tensorflow:Assets written to: /tmp/tmptnc_d516/assets\n"
          ],
          "name": "stdout"
        },
        {
          "output_type": "execute_result",
          "data": {
            "text/plain": [
              "3948"
            ]
          },
          "metadata": {
            "tags": []
          },
          "execution_count": 32
        }
      ]
    }
  ]
}